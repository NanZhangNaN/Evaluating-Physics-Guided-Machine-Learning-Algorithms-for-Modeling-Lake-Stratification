{
  "nbformat": 4,
  "nbformat_minor": 0,
  "metadata": {
    "colab": {
      "name": "Lake_PyTorch_merged.ipynb",
      "provenance": [],
      "collapsed_sections": [],
      "toc_visible": true,
      "include_colab_link": true
    },
    "kernelspec": {
      "name": "python3",
      "display_name": "Python 3"
    },
    "language_info": {
      "name": "python"
    },
    "accelerator": "GPU"
  },
  "cells": [
    {
      "cell_type": "markdown",
      "metadata": {
        "id": "view-in-github",
        "colab_type": "text"
      },
      "source": [
        "<a href=\"https://colab.research.google.com/github/leap-stc/LEAPCourse-Climate-Pred-Challenges/blob/main/Project-StarterCodes/Project2-PhysicsML/lib/Lake_PyTorch.ipynb\" target=\"_parent\"><img src=\"https://colab.research.google.com/assets/colab-badge.svg\" alt=\"Open In Colab\"/></a>"
      ]
    },
    {
      "cell_type": "markdown",
      "source": [
        "# Modeling Lake Thermal Stratification"
      ],
      "metadata": {
        "id": "fHQJ6omnn5rk"
      }
    },
    {
      "cell_type": "markdown",
      "source": [
        "In this notebook, we reproduce physics-guided deep learning models proposed in Read *et al* (2019) and Jia *et al* (2019). We use only the Lake Mendota data in this notebook. \n",
        "\n",
        "Both papers combine state-of-the-art deep learning models with strategies to incorporaate \"guidance\" from known physics that governs the dynamics of lake thermal stratefication. \n",
        "\n",
        "This notebook provides a set of starter codes for [LEAP CPC Spring 2022](https://github.com/leap-stc/LEAPCourse-Climate-Pred-Challenges)[Project 2](https://github.com/leap-stc/LEAPCourse-Climate-Pred-Challenges/tree/main/Project-StarterCodes/Project2-PhysicsML) on\n",
        "\n",
        "+ how to download data,\n",
        "+ how to set up physics-guided loss functions,\n",
        "+ how to setup deep learning models using PyTorch,\n",
        "+ how to pre-train and re-train DL models, with early stopping,\n",
        "+ how to evaluate and visualize model predictions.\n",
        "\n",
        "All the codes in this notebook can be modified to implement research ideas. \n",
        "\n",
        "To start, the **team leader** of each team should \n",
        "+ create in the course folder a folder for project 2.\n",
        "This folder can be used to share notes, data, outputs and codes. See [project 2 description](https://github.com/leap-stc/LEAPCourse-Climate-Pred-Challenges/blob/main/Project-StarterCodes/Project2-PhysicsML/doc/project2_desc.md) for a suggested set up. \n",
        "+ share project 2 folder with all team members.\n",
        "+ team members should add this folder to their drive by creating a shortcut to this shared project folder in their own folder for LEAP CPC.\n",
        "+ go to \"File/Save A Copy in Drive/\" (upper left) and save a copy for your team in the project 2 folder that was just created, under an appropriate subfolder. \n",
        "+ for collaboration, team members should all add a shortcut of their project 2 folder to the folder \"Colab Notebooks\" in the root of your Google Drive. See below for more instructions. \n"
      ],
      "metadata": {
        "id": "E_w7noZcoEi7"
      }
    },
    {
      "cell_type": "markdown",
      "source": [
        "# Part 0. Setup Workspace"
      ],
      "metadata": {
        "id": "gwEmKptsAeza"
      }
    },
    {
      "cell_type": "markdown",
      "source": [
        "## Import packages and adjust settings"
      ],
      "metadata": {
        "id": "j3ihmc5LAu-d"
      }
    },
    {
      "cell_type": "code",
      "source": [
        "%%capture\n",
        "!pip3 install sciencebasepy"
      ],
      "metadata": {
        "id": "lYW9f-Db6Ky-"
      },
      "execution_count": 4,
      "outputs": []
    },
    {
      "cell_type": "code",
      "source": [
        "import os, random, warnings\n",
        "import numpy as np\n",
        "import pandas as pd\n",
        "import datetime\n",
        "import torch\n",
        "import cv2\n",
        "import re\n",
        "import matplotlib.pyplot as plt\n",
        "import sciencebasepy\n",
        "import urllib.request\n",
        "import torch.nn as nn\n",
        "import torch.optim as optim\n",
        "from torch.utils.data import TensorDataset, DataLoader\n",
        "from google.colab import drive\n",
        "from sklearn import preprocessing\n",
        "from urllib.request import urlopen\n",
        "from zipfile import ZipFile"
      ],
      "metadata": {
        "id": "LEkxFV1RArkN"
      },
      "execution_count": 5,
      "outputs": []
    },
    {
      "cell_type": "markdown",
      "source": [
        "For this project, it is important for the team to set up a shared Google Drive to collaborate using the same notebook, while saving intermediate outputs and results to the shared folder. Therefore"
      ],
      "metadata": {
        "id": "DTbv5k_PxfSx"
      }
    },
    {
      "cell_type": "code",
      "source": [
        "# mount the drive\n",
        "drive.mount('/content/drive')"
      ],
      "metadata": {
        "colab": {
          "base_uri": "https://localhost:8080/"
        },
        "id": "cWEy0x4GxwrF",
        "outputId": "c1b51ed4-dd01-4753-a039-34bc96f6f283"
      },
      "execution_count": 6,
      "outputs": [
        {
          "output_type": "stream",
          "name": "stdout",
          "text": [
            "Mounted at /content/drive\n"
          ]
        }
      ]
    },
    {
      "cell_type": "markdown",
      "source": [
        "For this project, we will be using PyTorch, which will benefit tremendously from acceleration by GPU. Make sure that you are on a GPU run time. This notebook runs sufficiently fast without a [Google Colab Pro](https://colab.research.google.com/signup) subscription. However, teams with ambitious plans may need more memory and more computational power offer by a Pro subscription. The Pro subscription is not available to LionMail. You would need to share your project with a personal gmail account to enable the Pro subscription. "
      ],
      "metadata": {
        "id": "1aNurNU_x1ip"
      }
    },
    {
      "cell_type": "code",
      "source": [
        "# check GPU\n",
        "device = 'cuda' if torch.cuda.is_available() else 'cpu'\n",
        "print('Using {} device'.format(device))"
      ],
      "metadata": {
        "colab": {
          "base_uri": "https://localhost:8080/"
        },
        "id": "xm0iYiXex3_e",
        "outputId": "bae2e6b0-bd50-4c14-f82e-289891dd5b59"
      },
      "execution_count": 7,
      "outputs": [
        {
          "output_type": "stream",
          "name": "stdout",
          "text": [
            "Using cuda device\n"
          ]
        }
      ]
    },
    {
      "cell_type": "markdown",
      "source": [
        "## Set Data Directory and Shared Folder\n",
        "\n",
        "Each team should create a shortcut to your project folder in the \"Colab Notebooks\" folder similar to \"LEAP Colab Notebooks/Project 2/.\" There should be a folder for raw data and a folder for outputs. \n",
        "\n",
        "**data_dir** should be set as 'drive/Mydrive/Colab Notebooks/SHARED_FOLDER/Data/', where SHARED_FOLDER is the name of the shared folder."
      ],
      "metadata": {
        "id": "dES7sUeVNn5E"
      }
    },
    {
      "cell_type": "code",
      "source": [
        "# need to add shortcut of the shared folder to folder \"/MyDrive/Colab Notebooks/\"\n",
        "# and change the folder name accordingly\n",
        "data_dir = 'drive/MyDrive/Colab Notebooks/LEAP Colab Notebooks/Project 2/Data/'\n",
        "output_dir = 'drive/MyDrive/Colab Notebooks/LEAP Colab Notebooks/Project 2/Output/'\n",
        "if not os.path.isdir(data_dir): os.mkdir(data_dir) ## create the folder\n",
        "if not os.path.isdir(output_dir): os.mkdir(output_dir) ## create the folder"
      ],
      "metadata": {
        "id": "4gZPT-2qlzTQ"
      },
      "execution_count": 8,
      "outputs": []
    },
    {
      "cell_type": "markdown",
      "source": [
        "## Download and Unzip Data\n",
        "\n",
        "This block will only download the data to the shared Google Drive Folder once. By having a designated folder for raw data, you can always delete every files from the folder and re-download all data to start over, in the case some files are overwritten inadvertently. "
      ],
      "metadata": {
        "id": "9u4XWc4xT1Fo"
      }
    },
    {
      "cell_type": "code",
      "source": [
        "if os.listdir(data_dir) == []: ## data not downloaded yet\n",
        "    print('Data folder is empty! Download the files now!')\n",
        "    # set the url\n",
        "    zipurl = 'https://github.com/leap-stc/LEAPCourse-Climate-Pred-Challenges/raw/main/Project-StarterCodes/Project2-PhysicsML/data/numpy_files.zip'\n",
        "    # download the file from the URL\n",
        "    zipresp = urlopen(zipurl)\n",
        "    # create a new file on the hard drive\n",
        "    tempzip = open(data_dir + 'numpy_files.zip', \"wb\")\n",
        "    # write the contents of the downloaded file into the new file\n",
        "    tempzip.write(zipresp.read())\n",
        "    # close the newly-created file\n",
        "    tempzip.close()\n",
        "    # re-open the newly-created file with ZipFile()\n",
        "    zf = ZipFile(data_dir + 'numpy_files.zip')\n",
        "    # extract its contents into <extraction_path>\n",
        "    # note that extractall will automatically create the path\n",
        "    zf.extractall(path = data_dir)\n",
        "    # close the ZipFile instance\n",
        "    zf.close()\n",
        "    print('Files all downloaded!')"
      ],
      "metadata": {
        "id": "6aVvhVDFnmOr"
      },
      "execution_count": 9,
      "outputs": []
    },
    {
      "cell_type": "markdown",
      "source": [
        "# Part I. Model Pre-training\n",
        "\n",
        "[Data](https://www.sciencebase.gov/catalog/item/5d88ea50e4b0c4f70d0ab3c0) and [original codes](https://zenodo.org/record/3497495#.YgB85_XMIqv) of Read et al (2019) are all publicly available, which makes this reproducibility effort reasonably easy. \n",
        "\n",
        "Read et al (2019) and Jia et al (2019) proposed a [Long short-term memory (LSTM)](https://colah.github.io/posts/2015-08-Understanding-LSTMs/) network for modeling temperature dynamics. The original codes used TensorFlow version 1.0. In this notebook, we adopt this model using [PyTorch](https://pytorch.org/), an open-source ML framework with excellent libraries for deep learning.  \n",
        "\n",
        "As proposed in the papers, physics guidance were introduced in two ways. The first is adding an energy conservation term to the loss funcation. The second is pretraining the LSTM networks using simulation data from the [General Lake Model](https://aed.see.uwa.edu.au/research/models/glm/). \n",
        "\n",
        "In the following, we outline\n",
        "+ Algorithm configering constants\n",
        "+ Set up functions for calculating energy conservation\n",
        "+ Load the data\n",
        "+ Setup the LSTM model\n",
        "+ Train the LSTM model using simulated data"
      ],
      "metadata": {
        "id": "CyVLqEU1iDrS"
      }
    },
    {
      "cell_type": "markdown",
      "source": [
        "## Constants\n",
        "We set the algorithm configuring constants in this part."
      ],
      "metadata": {
        "id": "t2WP4BCOjM5V"
      }
    },
    {
      "cell_type": "code",
      "source": [
        "# params for LSTM\n",
        "epochs = 300 ## number of max training epochs\n",
        "batch_size = 100 ## batch size in SGD, must be multiplication of n_depths\n",
        "learning_rate = 1e-2 ## learning rate \n",
        "state_size = 7 ## dimension of hidden layers \n",
        "input_size = 9 ## matches with the data, last dimension of x\n",
        "phy_size = 10 ## matches with the data, last dimension of phy\n",
        "elam = 0.005 ## loss weight\n",
        "patience = 3 ## patience in early stopping\n",
        "\n",
        "\n",
        "# params for data transformation\n",
        "npic = 10 #16 #40 stride size\n",
        "N_sec = (npic-1)*2+1 ## window width\n",
        "n_depths = 50 ## matches with data, first dimension of x, also = len(depth_areas)\n",
        "ec_threshold = 24\n",
        "depth_areas = torch.Tensor([\n",
        "        39865825,38308175,38308175,35178625,35178625,33403850,31530150,31530150,30154150,30154150,29022000,\n",
        "        29022000,28063625,28063625,27501875,26744500,26744500,26084050,26084050,25310550,24685650,24685650,\n",
        "        23789125,23789125,22829450,22829450,21563875,21563875,20081675,18989925,18989925,17240525,17240525,\n",
        "        15659325,14100275,14100275,12271400,12271400,9962525,9962525,7777250,7777250,5956775,4039800,4039800,\n",
        "        2560125,2560125,820925,820925,216125]).to(device)\n"
      ],
      "metadata": {
        "id": "b6tnrsyhBCWl"
      },
      "execution_count": 10,
      "outputs": []
    },
    {
      "cell_type": "markdown",
      "source": [
        "## Function definitions for calculating ec loss"
      ],
      "metadata": {
        "id": "oj9gJRuvFA_b"
      }
    },
    {
      "cell_type": "code",
      "source": [
        "def transformTempToDensity(temp):\n",
        "    # converts temperature to density\n",
        "    # parameter:\n",
        "        # @temp: single value or array of temperatures to be transformed\n",
        "    densities = 1000 * (1 - ((temp + 288.9414) * (temp - 3.9863)**2) / (508929.2 * (temp + 68.12963)))\n",
        "    return densities\n",
        "\n",
        "def calculate_lake_energy(temps, densities, depth_areas):\n",
        "    # calculate the total energy of the lake for every timestep\n",
        "    # sum over all layers the (depth cross-sectional area)*temp*density*layer_height)\n",
        "    # then multiply by the specific heat of water \n",
        "    dz = 0.5 # thickness for each layer, hardcoded for now\n",
        "    cw = 4186 # specific heat of water\n",
        "    depth_areas = torch.reshape(depth_areas, (-1, 1))\n",
        "    energy = torch.sum(depth_areas * temps * densities * dz * cw, axis=0)\n",
        "    return energy\n",
        "\n",
        "def calculate_lake_energy_deltas(energies, combine_days, surface_area):\n",
        "    # given a time series of energies, compute and return the differences\n",
        "    # between each time step, or time step interval (parameter @combine_days)\n",
        "    # as specified by parameter @combine_days\n",
        "    time = 86400 #seconds per day\n",
        "    energy_deltas = (energies[1:] - energies[:-1]) / (time * surface_area)\n",
        "    return energy_deltas\n",
        "\n",
        "def calculate_vapour_pressure_saturated(temp):\n",
        "    # returns in miilibars\n",
        "    # Converted pow function to exp function workaround pytorch not having autograd implemented for pow\n",
        "    exponent = (9.28603523 - (2332.37885 / (temp + 273.15))) * np.log(10)\n",
        "    return torch.exp(exponent)\n",
        "\n",
        "def calculate_vapour_pressure_air(rel_hum, temp):\n",
        "    rh_scaling_factor = 1\n",
        "    return rh_scaling_factor * (rel_hum / 100) * calculate_vapour_pressure_saturated(temp)\n",
        "\n",
        "\n",
        "def calculate_wind_speed_10m(ws, ref_height = 2.):\n",
        "    # from GLM code glm_surface.c\n",
        "    c_z0 = torch.tensor(0.001) #default roughness\n",
        "    return ws * (torch.log(10.0 / c_z0) / torch.log(ref_height / c_z0))\n",
        "\n",
        "def calculate_air_density(air_temp, rh):\n",
        "    # returns air density in kg / m^3\n",
        "    # equation from page 13 GLM/GLEON paper(et al Hipsey)\n",
        "    # Ratio of the molecular (or molar) weight of water to dry air\n",
        "    mwrw2a = 18.016 / 28.966\n",
        "    c_gas = 1.0e3 * 8.31436 / 28.966\n",
        "\n",
        "    # atmospheric pressure\n",
        "    p = 1013. #mb\n",
        "\n",
        "    # water vapor pressure\n",
        "    vapPressure = calculate_vapour_pressure_air(rh, air_temp)\n",
        "\n",
        "    # water vapor mixing ratio (from GLM code glm_surface.c)\n",
        "    r = mwrw2a * vapPressure / (p - vapPressure)\n",
        "    return (1.0 / c_gas * (1 + r)/(1 + r / mwrw2a) * p / (air_temp + 273.15)) * 100\n",
        "\n",
        "def calculate_heat_flux_sensible(surf_temp, air_temp, rel_hum, wind_speed):\n",
        "    # equation 22 in GLM/GLEON paper(et al Hipsey)\n",
        "    # GLM code ->  Q_sensibleheat = -CH * (rho_air * 1005.) * WindSp * (Lake[surfLayer].Temp - MetData.AirTemp);\n",
        "    # calculate air density \n",
        "    rho_a = calculate_air_density(air_temp, rel_hum)\n",
        "\n",
        "    # specific heat capacity of air in J/(kg*C)\n",
        "    c_a = 1005.\n",
        "\n",
        "    # bulk aerodynamic coefficient for sensible heat transfer\n",
        "    c_H = 0.0013\n",
        "\n",
        "    # wind speed at 10m\n",
        "    U_10 = calculate_wind_speed_10m(wind_speed)\n",
        "    return -rho_a * c_a * c_H * U_10 * (surf_temp - air_temp)\n",
        "\n",
        "def calculate_heat_flux_latent(surf_temp, air_temp, rel_hum, wind_speed):\n",
        "    # equation 23 in GLM/GLEON paper(et al Hipsey)\n",
        "    # GLM code-> Q_latentheat = -CE * rho_air * Latent_Heat_Evap * (0.622/p_atm) * WindSp * (SatVap_surface - MetData.SatVapDef)\n",
        "    # where,         SatVap_surface = saturated_vapour(Lake[surfLayer].Temp);\n",
        "    #                rho_air = atm_density(p_atm*100.0,MetData.SatVapDef,MetData.AirTemp);\n",
        "    # air density in kg/m^3\n",
        "    rho_a = calculate_air_density(air_temp, rel_hum)\n",
        "\n",
        "    # bulk aerodynamic coefficient for latent heat transfer\n",
        "    c_E = 0.0013\n",
        "\n",
        "    # latent heat of vaporization (J/kg)\n",
        "    lambda_v = 2.453e6\n",
        "\n",
        "    # wind speed at 10m height\n",
        "    # U_10 = wind_speed\n",
        "    U_10 = calculate_wind_speed_10m(wind_speed)\n",
        "    # \n",
        "    # ratio of molecular weight of water to that of dry air\n",
        "    omega = 0.622\n",
        "\n",
        "    # air pressure in mb\n",
        "    p = 1013.\n",
        "\n",
        "    e_s = calculate_vapour_pressure_saturated(surf_temp)\n",
        "    e_a = calculate_vapour_pressure_air(rel_hum, air_temp)\n",
        "    return -rho_a * c_E * lambda_v * U_10 * (omega / p) * (e_s - e_a)\n",
        "\n",
        "def calculate_energy_fluxes(phys, surf_temps, combine_days):    \n",
        "    e_s = 0.985 # emissivity of water, given by Jordan\n",
        "    alpha_sw = 0.07 # shortwave albedo, given by Jordan Read\n",
        "    alpha_lw = 0.03 # longwave, albeda, given by Jordan Read\n",
        "    sigma = 5.67e-8 # Stefan-Baltzmann constant\n",
        "    R_sw_arr = phys[:-1,2] + (phys[1:,2] - phys[:-1,2]) / 2\n",
        "    R_lw_arr = phys[:-1,3] + (phys[1:,3] - phys[:-1,3]) / 2\n",
        "    R_lw_out_arr = e_s * sigma * (torch.pow(surf_temps[:] + 273.15, 4))\n",
        "    R_lw_out_arr = R_lw_out_arr[:-1] + (R_lw_out_arr[1:] - R_lw_out_arr[:-1]) / 2\n",
        "\n",
        "    air_temp = phys[:-1,4] \n",
        "    air_temp2 = phys[1:,4]\n",
        "    rel_hum = phys[:-1,5]\n",
        "    rel_hum2 = phys[1:,5]\n",
        "    ws = phys[:-1, 6]\n",
        "    ws2 = phys[1:,6]\n",
        "    t_s = surf_temps[:-1]\n",
        "    t_s2 = surf_temps[1:]\n",
        "    E = calculate_heat_flux_latent(t_s, air_temp, rel_hum, ws)\n",
        "    H = calculate_heat_flux_sensible(t_s, air_temp, rel_hum, ws)\n",
        "    E2 = calculate_heat_flux_latent(t_s2, air_temp2, rel_hum2, ws2)\n",
        "    H2 = calculate_heat_flux_sensible(t_s2, air_temp2, rel_hum2, ws2)\n",
        "    E = (E + E2) / 2\n",
        "    H = (H + H2) / 2\n",
        "    fluxes = (R_sw_arr[:-1] * (1-alpha_sw) + R_lw_arr[:-1] * (1-alpha_lw) - R_lw_out_arr[:-1] + E[:-1] + H[:-1])\n",
        "    return fluxes\n",
        "\n",
        "def calculate_ec_loss(inputs, outputs, phys, depth_areas, n_depths, ec_threshold, combine_days=1):\n",
        "    # description: calculates energy conservation loss\n",
        "    # parameters: \n",
        "        # @inputs: features\n",
        "        # @outputs: labels\n",
        "        # @phys: features(not standardized) of sw_radiation, lw_radiation, etc\n",
        "        # @ labels modeled temp (will not used in loss, only for test) !!! DO NOT MODIFY THIS LINE !!!\n",
        "        # @depth_areas: cross-sectional area of each depth\n",
        "        # @n_depths: number of depths\n",
        "        # @use_gpu: gpu flag\n",
        "        # @combine_days: how many days to look back to see if energy is conserved\n",
        "    #*********************************************************************************\n",
        "    n_sets = int(inputs.shape[0] / n_depths)\n",
        "    densities = transformTempToDensity(outputs)\n",
        "    diff_per_set_r = torch.empty(n_sets) \n",
        "    for i in range(n_sets):\n",
        "        # loop through sets of n_depths\n",
        "        # indices\n",
        "        start_index = i * n_depths\n",
        "        end_index = (i + 1) * n_depths\n",
        "        # calculate lake energy for each timestep\n",
        "        lake_energies = calculate_lake_energy(outputs[start_index:end_index, :], densities[start_index:end_index, :], depth_areas)\n",
        "        # calculate energy change in each timestep\n",
        "        lake_energy_deltas = calculate_lake_energy_deltas(lake_energies, combine_days, depth_areas[0])\n",
        "        lake_energy_deltas = lake_energy_deltas[1:]\n",
        "        # calculate sum of energy flux into or out of the lake at each timestep\n",
        "        lake_energy_fluxes = calculate_energy_fluxes(phys[start_index, :, :], outputs[start_index, :], combine_days)\n",
        "        ### can use this to plot energy delta and flux over time to see if they line up\n",
        "        diff_vec = torch.abs(lake_energy_deltas - lake_energy_fluxes) \n",
        "        tmp_mask = 1 - phys[start_index+1, 1:-1, 9] \n",
        "        tmp_loss = torch.mean(diff_vec * tmp_mask)\n",
        "        diff_per_set_r[i] = tmp_loss \n",
        "    diff_per_set = torch.clamp(diff_per_set_r - ec_threshold, min=0, max=999999)\n",
        "    return torch.mean(diff_per_set), diff_vec, diff_per_set_r, diff_per_set \n"
      ],
      "metadata": {
        "id": "b144t0gHFAEA"
      },
      "execution_count": 11,
      "outputs": []
    },
    {
      "cell_type": "markdown",
      "source": [
        "## Load data\n",
        "\n",
        "Here we load the data for pretraining and partition the data into training, validation and test sets. "
      ],
      "metadata": {
        "id": "NNygPr93qYCx"
      }
    },
    {
      "cell_type": "code",
      "source": [
        "# load data\n",
        "x_full = np.load(data_dir + '/processed_features.npy') #standardized inputs\n",
        "x_raw_full = np.load(data_dir + '/features.npy') #raw inputs\n",
        "diag_full = np.load(data_dir + '/diag.npy') \n",
        "label_full = np.load(data_dir + '/labels.npy') #simulated lake temperatures\n",
        "\n",
        "# process data\n",
        "mask_full = np.ones(label_full.shape) # no missing values to mask for simulated data\n",
        "phy_full = np.concatenate((x_raw_full[:,:,:(-2)], diag_full), axis=2) \n",
        "## phy: 4-air temp, 5-rel hum, 6-wind speed, 9-ice flag\n",
        "\n",
        "# print the shape\n",
        "print(f\"The shape of x_full is {np.shape(x_full)}\")\n",
        "print(f\"The shape of x_raw_full is {np.shape(x_raw_full)}\")\n",
        "print(f\"The shape of diag_full is {np.shape(diag_full)}\")\n",
        "print(f\"The shape of label is {np.shape(label_full)}\")\n",
        "\n",
        "# train-val split\n",
        "## in model pretraining, we use validation set to find the best number of steps \n",
        "## Here we use equal size for train-val split\n",
        "## They can be of different sizes by using different n_steps \n",
        "N = np.shape(x_full)[1] # the total number of samples\n",
        "idx_tr, idx_va, idx_te = (int(N/3), int(N/3*2), N)\n",
        "\n",
        "\n",
        "## training\n",
        "x_tr = x_full[:, :idx_tr]\n",
        "y_tr = label_full[:, :idx_tr]\n",
        "p_tr = phy_full[:, :idx_tr]\n",
        "m_tr = mask_full[:, :idx_tr]\n",
        "## validation\n",
        "x_va = x_full[:, idx_tr:idx_va]\n",
        "y_va = label_full[:, idx_tr:idx_va]\n",
        "p_va = phy_full[:, idx_tr:idx_va]\n",
        "m_va = mask_full[:, idx_tr:idx_va]\n",
        "\n",
        "# create data\n",
        "n_steps = int(idx_tr/npic)\n",
        "x_train = np.zeros([n_depths * N_sec, n_steps, input_size])\n",
        "y_train = np.zeros([n_depths * N_sec, n_steps])\n",
        "p_train = np.zeros([n_depths * N_sec, n_steps, phy_size])\n",
        "m_train = np.zeros([n_depths * N_sec, n_steps])\n",
        "\n",
        "x_val = np.zeros([n_depths * N_sec, n_steps, input_size])\n",
        "y_val = np.zeros([n_depths * N_sec, n_steps])\n",
        "p_val = np.zeros([n_depths * N_sec, n_steps, phy_size])\n",
        "m_val = np.zeros([n_depths * N_sec, n_steps])\n",
        "\n",
        "\n",
        "for i in range(1, N_sec + 1):\n",
        "    r_1 = int((i - 1) * n_steps / 2) ## stride size = n_steps / 2\n",
        "    r_2 = r_1 + n_steps ## step size = n_step\n",
        "    x_train[(i-1)*n_depths:(i*n_depths)] = x_tr[:, r_1:r_2]\n",
        "    y_train[(i-1)*n_depths:(i*n_depths)] = y_tr[:, r_1:r_2]\n",
        "    p_train[(i-1)*n_depths:(i*n_depths)] = p_tr[:, r_1:r_2]\n",
        "    m_train[(i-1)*n_depths:(i*n_depths)] = m_tr[:, r_1:r_2]\n",
        "    x_val[(i-1)*n_depths:(i*n_depths)] = x_va[:, r_1:r_2]\n",
        "    y_val[(i-1)*n_depths:(i*n_depths)] = y_va[:, r_1:r_2]\n",
        "    p_val[(i-1)*n_depths:(i*n_depths)] = p_va[:, r_1:r_2]\n",
        "    m_val[(i-1)*n_depths:(i*n_depths)] = m_va[:, r_1:r_2]\n",
        "\n",
        "x_f = np.concatenate((x_train, x_val), axis=0)\n",
        "y_f = np.concatenate((y_train, y_val), axis=0)\n",
        "p_f = np.concatenate((p_train, p_val), axis=0)\n",
        "m_f = np.concatenate((m_train, m_val), axis=0)\n",
        "\n",
        "# print the shape\n",
        "print(f\"The shape of x_train is {np.shape(x_train)}\")\n",
        "print(f\"The shape of y_train is {np.shape(y_train)}\")\n",
        "print(f\"The shape of p_train is {np.shape(p_train)}\")\n",
        "print(f\"The shape of m_train is {np.shape(m_train)}\")\n"
      ],
      "metadata": {
        "colab": {
          "base_uri": "https://localhost:8080/"
        },
        "id": "RmNNJ6lhDSG8",
        "outputId": "2c8a002b-6a72-4298-c665-f7bd1877c4f9"
      },
      "execution_count": 12,
      "outputs": [
        {
          "output_type": "stream",
          "name": "stdout",
          "text": [
            "The shape of x_full is (50, 12691, 9)\n",
            "The shape of x_raw_full is (50, 12691, 9)\n",
            "The shape of diag_full is (50, 12691, 3)\n",
            "The shape of label is (50, 12691)\n",
            "The shape of x_train is (950, 423, 9)\n",
            "The shape of y_train is (950, 423)\n",
            "The shape of p_train is (950, 423, 10)\n",
            "The shape of m_train is (950, 423)\n"
          ]
        }
      ]
    },
    {
      "cell_type": "markdown",
      "source": [
        "## Class definition of LSTM model\n",
        "We set up a relatively standard LSTM network. See [the PyTorch tutorial on LSTM](https://pytorch.org/docs/stable/generated/torch.nn.LSTM.html) for details. "
      ],
      "metadata": {
        "id": "HlT2ADUu4Ose"
      }
    },
    {
      "cell_type": "code",
      "source": [
        "class LSTMnet(nn.Module):\n",
        "    def __init__(self, input_dim, output_dim, hidden_dim, n_layers):\n",
        "        super(LSTMnet, self).__init__()\n",
        "        self.output_size = output_dim\n",
        "        self.n_layers = n_layers\n",
        "        self.hidden_dim = hidden_dim\n",
        "        self.lstm = nn.LSTM(input_size = input_dim, \n",
        "                            hidden_size = hidden_dim, \n",
        "                            num_layers = n_layers, \n",
        "                            batch_first=True)\n",
        "        self.fc = nn.Linear(hidden_dim, output_dim)\n",
        "        \n",
        "    def forward(self, x):\n",
        "        batch_size = x.size(0)\n",
        "        lstm_out, hidden = self.lstm(x)\n",
        "        lstm_out = lstm_out.contiguous().view(-1, self.hidden_dim)\n",
        "        out = self.fc(lstm_out)\n",
        "        out = out.view(batch_size, -1)\n",
        "        return out"
      ],
      "metadata": {
        "id": "ETRrJq8n_p97"
      },
      "execution_count": 13,
      "outputs": []
    },
    {
      "cell_type": "markdown",
      "source": [
        "## Function definitions for Deep Learning\n",
        "\n",
        "In the training, the loss funcation is a weighted sum of the *prediction error* loss and *energy conservation* loss. The algorithm processes a mini batch of data at a time and use backpropagation to update model parameters. The training intends to run the specified number of epochs but will stop *early* if the returned loss increases for three consequential updates. "
      ],
      "metadata": {
        "id": "YXSkSUSRmm0N"
      }
    },
    {
      "cell_type": "code",
      "source": [
        "def weighted_rmse_loss(input, target, weight):\n",
        "    # defined weighted rmse loss\n",
        "    # used in model training\n",
        "    return torch.sqrt(torch.sum(weight * (input - target) ** 2) / torch.sum(weight))\n",
        "\n",
        "def batch_sample_generator(size_list, batch_size):\n",
        "    ## create advanced batches for training-val-test\n",
        "    ## each batch should match with depth_areas for calculating ec_loss\n",
        "    n_batch = int(size_list / batch_size)\n",
        "    n_remain = size_list % batch_size\n",
        "    batch_sampler = [list(range(i * batch_size, i * batch_size + batch_size)) for i in range(n_batch)]\n",
        "    if n_remain > 0:\n",
        "        batch_sampler += [list(range(n_batch * batch_size, n_batch * batch_size + n_remain))]\n",
        "    return batch_sampler\n",
        "\n",
        "\n",
        "def train(model, epochs, optimizer, train_loader, valid_loader, early_stopping=True):\n",
        "    the_last_loss = 100\n",
        "    trigger_times = 0\n",
        "    for i in range(epochs):\n",
        "        print('This is epoch ' + str(i + 1))\n",
        "        for batch, (x, y, m, p) in enumerate(train_loader):\n",
        "            model.train()\n",
        "            size = len(train_loader.dataset)\n",
        "            x = x.to(device).float()\n",
        "            y = y.to(device)\n",
        "            m = m.to(device)\n",
        "            p = p.to(device)\n",
        "            # Compute prediction and loss\n",
        "            pred = model(x)\n",
        "            loss_1 = weighted_rmse_loss(pred, y, m)\n",
        "            loss_2, a, b, c = calculate_ec_loss(x,\n",
        "                                        pred,\n",
        "                                        p,                                     \n",
        "                                        depth_areas,\n",
        "                                        n_depths,\n",
        "                                        ec_threshold,\n",
        "                                        combine_days=1)\n",
        "            loss = loss_1 + elam * loss_2\n",
        "            # Backpropagation\n",
        "            optimizer.zero_grad()\n",
        "            loss.backward()\n",
        "            optimizer.step()\n",
        "            # Print output\n",
        "            loss_track, current = loss.item(), batch * len(x)\n",
        "            if batch%5 == 0:\n",
        "                print(\"BatLoss = \" + \"{:.4f}\".format(loss) + \\\n",
        "                    \", Rc = \" + \"{:.4f}\".format(loss_1) + \\\n",
        "                    \", Ec = \" + \"{:.4f}\".format(loss_2) + \\\n",
        "                    f'[{current:>5d}/{size:>5d}]')\n",
        "        \n",
        "        # Early stopping\n",
        "        if early_stopping:\n",
        "            the_current_loss = val_test(model, valid_loader)\n",
        "            print('The current loss:', the_current_loss)\n",
        "            if the_current_loss > the_last_loss:\n",
        "                trigger_times += 1\n",
        "                if trigger_times >= patience:\n",
        "                    print('Early stopping!\\nStart to test process.')\n",
        "                    return model, (i+1)\n",
        "            else:\n",
        "                trigger_times = 0 ## reset trigger time to 0\n",
        "                the_last_loss = the_current_loss\n",
        "\n",
        "    return model, epochs\n",
        "        \n",
        "\n",
        "def val_test(model, data_loader):\n",
        "    # Settings\n",
        "    model.eval()\n",
        "\n",
        "    loss_total = 0\n",
        "    # make predictions on validation/test data\n",
        "    with torch.no_grad():\n",
        "        for batch, (x, y, m, p) in enumerate(data_loader):\n",
        "            x = x.to(device).float()\n",
        "            y = y.to(device)\n",
        "            m = m.to(device)\n",
        "            p = p.to(device)\n",
        "\n",
        "            # Compute prediction and loss\n",
        "            pred = model(x)\n",
        "            loss_1 = weighted_rmse_loss(pred, y, m)\n",
        "            loss_2, a, b, c = calculate_ec_loss(x,\n",
        "                                        pred,\n",
        "                                        p,                                     \n",
        "                                        depth_areas,\n",
        "                                        n_depths,\n",
        "                                        ec_threshold,\n",
        "                                        combine_days=1)\n",
        "            loss = loss_1 + elam * loss_2\n",
        "            loss_total += loss.item()\n",
        "    return loss_total / len(data_loader)\n",
        "\n"
      ],
      "metadata": {
        "id": "8jvWQQCFGaDP"
      },
      "execution_count": 14,
      "outputs": []
    },
    {
      "cell_type": "markdown",
      "source": [
        "## Create data loaders"
      ],
      "metadata": {
        "id": "yT_XdYsit0f9"
      }
    },
    {
      "cell_type": "code",
      "source": [
        "train_data = TensorDataset(torch.from_numpy(x_train), \n",
        "                           torch.from_numpy(y_train), \n",
        "                           torch.from_numpy(m_train),\n",
        "                           torch.from_numpy(p_train))\n",
        "\n",
        "val_data = TensorDataset(torch.from_numpy(x_val), \n",
        "                         torch.from_numpy(y_val), \n",
        "                         torch.from_numpy(m_val),\n",
        "                         torch.from_numpy(p_val))\n",
        "\n",
        "full_data = TensorDataset(torch.from_numpy(x_f), \n",
        "                          torch.from_numpy(y_f), \n",
        "                          torch.from_numpy(m_f),\n",
        "                          torch.from_numpy(p_f))\n",
        "\n",
        "tr_loader = DataLoader(train_data, batch_sampler=batch_sample_generator(len(train_data), batch_size))\n",
        "va_loader = DataLoader(val_data, batch_sampler=batch_sample_generator(len(val_data), batch_size))\n",
        "fu_loader = DataLoader(full_data, batch_sampler=batch_sample_generator(len(full_data), batch_size))"
      ],
      "metadata": {
        "id": "JVKzySyqtz7k"
      },
      "execution_count": 15,
      "outputs": []
    },
    {
      "cell_type": "markdown",
      "source": [
        "## Training with early-stopping"
      ],
      "metadata": {
        "id": "I2wL-ZCGmq6o"
      }
    },
    {
      "cell_type": "markdown",
      "source": [
        "Here we train the model with early stopping. That is, if the model "
      ],
      "metadata": {
        "id": "AU051Gg0E9TS"
      }
    },
    {
      "cell_type": "code",
      "source": [
        "# train the model with early stopping\n",
        "## initialize model\n",
        "net = LSTMnet(input_dim = input_size, output_dim = 1, hidden_dim = state_size, n_layers = 1).to(device)\n",
        "optimizer = optim.Adam(net.parameters(), lr=learning_rate)\n",
        "net, best_epoch = train(net, epochs, optimizer, tr_loader, va_loader)"
      ],
      "metadata": {
        "colab": {
          "base_uri": "https://localhost:8080/"
        },
        "id": "MkR75nmuKeHA",
        "outputId": "4c32e64a-95fe-4206-9975-51eab49f050c"
      },
      "execution_count": 16,
      "outputs": [
        {
          "output_type": "stream",
          "name": "stdout",
          "text": [
            "This is epoch 1\n",
            "BatLoss = 11.2963, Rc = 10.1567, Ec = 227.9222[    0/  950]\n",
            "BatLoss = 11.5455, Rc = 10.4007, Ec = 228.9714[  500/  950]\n",
            "The current loss: 11.245773403734882\n",
            "This is epoch 2\n",
            "BatLoss = 10.8612, Rc = 9.7458, Ec = 223.0675[    0/  950]\n",
            "BatLoss = 10.9723, Rc = 9.8603, Ec = 222.3923[  500/  950]\n",
            "The current loss: 10.528699237325462\n",
            "This is epoch 3\n",
            "BatLoss = 10.1454, Rc = 9.0557, Ec = 217.9277[    0/  950]\n",
            "BatLoss = 10.1994, Rc = 9.1269, Ec = 214.4844[  500/  950]\n",
            "The current loss: 9.74712720419046\n",
            "This is epoch 4\n",
            "BatLoss = 9.3406, Rc = 8.2826, Ec = 211.6186[    0/  950]\n",
            "BatLoss = 9.4235, Rc = 8.3880, Ec = 207.0916[  500/  950]\n",
            "The current loss: 8.893480282794403\n",
            "This is epoch 5\n",
            "BatLoss = 8.4845, Rc = 7.4803, Ec = 200.8374[    0/  950]\n",
            "BatLoss = 8.5243, Rc = 7.5584, Ec = 193.1699[  500/  950]\n",
            "The current loss: 8.082442582936993\n",
            "This is epoch 6\n",
            "BatLoss = 7.6781, Rc = 6.7401, Ec = 187.5931[    0/  950]\n",
            "BatLoss = 7.7553, Rc = 6.8617, Ec = 178.7142[  500/  950]\n",
            "The current loss: 7.386388451421863\n",
            "This is epoch 7\n",
            "BatLoss = 6.9744, Rc = 6.1033, Ec = 174.2290[    0/  950]\n",
            "BatLoss = 7.0823, Rc = 6.2340, Ec = 169.6683[  500/  950]\n",
            "The current loss: 6.767220796641371\n",
            "This is epoch 8\n",
            "BatLoss = 6.4444, Rc = 5.5944, Ec = 170.0023[    0/  950]\n",
            "BatLoss = 6.4689, Rc = 5.6727, Ec = 159.2333[  500/  950]\n",
            "The current loss: 6.217759045872529\n",
            "This is epoch 9\n",
            "BatLoss = 5.9429, Rc = 5.1297, Ec = 162.6472[    0/  950]\n",
            "BatLoss = 5.9347, Rc = 5.1846, Ec = 150.0188[  500/  950]\n",
            "The current loss: 5.740959134104968\n",
            "This is epoch 10\n",
            "BatLoss = 5.4046, Rc = 4.6466, Ec = 151.6058[    0/  950]\n",
            "BatLoss = 5.4561, Rc = 4.7441, Ec = 142.4043[  500/  950]\n",
            "The current loss: 5.311490533671368\n",
            "This is epoch 11\n",
            "BatLoss = 5.0968, Rc = 4.3661, Ec = 146.1283[    0/  950]\n",
            "BatLoss = 5.0036, Rc = 4.3396, Ec = 132.8007[  500/  950]\n",
            "The current loss: 4.9575749948765395\n",
            "This is epoch 12\n",
            "BatLoss = 4.7437, Rc = 4.0556, Ec = 137.6214[    0/  950]\n",
            "BatLoss = 4.6434, Rc = 4.0098, Ec = 126.7325[  500/  950]\n",
            "The current loss: 4.663288576909965\n",
            "This is epoch 13\n",
            "BatLoss = 4.4748, Rc = 3.8199, Ec = 130.9836[    0/  950]\n",
            "BatLoss = 4.3333, Rc = 3.7284, Ec = 120.9780[  500/  950]\n",
            "The current loss: 4.374281189323092\n",
            "This is epoch 14\n",
            "BatLoss = 4.1475, Rc = 3.5452, Ec = 120.4709[    0/  950]\n",
            "BatLoss = 4.0527, Rc = 3.5030, Ec = 109.9522[  500/  950]\n",
            "The current loss: 4.168300298618559\n",
            "This is epoch 15\n",
            "BatLoss = 3.9344, Rc = 3.3785, Ec = 111.1713[    0/  950]\n",
            "BatLoss = 3.8777, Rc = 3.3525, Ec = 105.0425[  500/  950]\n",
            "The current loss: 3.9988298401832787\n",
            "This is epoch 16\n",
            "BatLoss = 3.7779, Rc = 3.2559, Ec = 104.4037[    0/  950]\n",
            "BatLoss = 3.7412, Rc = 3.2372, Ec = 100.8023[  500/  950]\n",
            "The current loss: 3.8593516081043004\n",
            "This is epoch 17\n",
            "BatLoss = 3.6647, Rc = 3.1653, Ec = 99.8799[    0/  950]\n",
            "BatLoss = 3.5924, Rc = 3.1189, Ec = 94.6953[  500/  950]\n",
            "The current loss: 3.735524866306393\n",
            "This is epoch 18\n",
            "BatLoss = 3.4979, Rc = 3.0106, Ec = 97.4566[    0/  950]\n",
            "BatLoss = 3.4299, Rc = 2.9821, Ec = 89.5589[  500/  950]\n",
            "The current loss: 3.570581022191334\n",
            "This is epoch 19\n",
            "BatLoss = 3.3316, Rc = 2.8698, Ec = 92.3596[    0/  950]\n",
            "BatLoss = 3.2614, Rc = 2.8319, Ec = 85.8820[  500/  950]\n",
            "The current loss: 3.400629578381269\n",
            "This is epoch 20\n",
            "BatLoss = 3.1583, Rc = 2.7088, Ec = 89.9004[    0/  950]\n",
            "BatLoss = 3.0567, Rc = 2.6471, Ec = 81.9102[  500/  950]\n",
            "The current loss: 3.2468571831866213\n",
            "This is epoch 21\n",
            "BatLoss = 3.0610, Rc = 2.6214, Ec = 87.9313[    0/  950]\n",
            "BatLoss = 2.8974, Rc = 2.5055, Ec = 78.3708[  500/  950]\n",
            "The current loss: 3.097995840801812\n",
            "This is epoch 22\n",
            "BatLoss = 2.8738, Rc = 2.4631, Ec = 82.1308[    0/  950]\n",
            "BatLoss = 2.7657, Rc = 2.3890, Ec = 75.3266[  500/  950]\n",
            "The current loss: 2.9652681449229052\n",
            "This is epoch 23\n",
            "BatLoss = 2.7265, Rc = 2.3498, Ec = 75.3360[    0/  950]\n",
            "BatLoss = 2.6294, Rc = 2.2781, Ec = 70.2557[  500/  950]\n",
            "The current loss: 2.8444306597115743\n",
            "This is epoch 24\n",
            "BatLoss = 2.6145, Rc = 2.2543, Ec = 72.0479[    0/  950]\n",
            "BatLoss = 2.4667, Rc = 2.1399, Ec = 65.3544[  500/  950]\n",
            "The current loss: 2.684624276811861\n",
            "This is epoch 25\n",
            "BatLoss = 2.4385, Rc = 2.0946, Ec = 68.7902[    0/  950]\n",
            "BatLoss = 2.3268, Rc = 2.0182, Ec = 61.7195[  500/  950]\n",
            "The current loss: 2.551746350858246\n",
            "This is epoch 26\n",
            "BatLoss = 2.2574, Rc = 1.9459, Ec = 62.2870[    0/  950]\n",
            "BatLoss = 2.1741, Rc = 1.8820, Ec = 58.4235[  500/  950]\n",
            "The current loss: 2.4511904816452454\n",
            "This is epoch 27\n",
            "BatLoss = 2.1640, Rc = 1.8584, Ec = 61.1203[    0/  950]\n",
            "BatLoss = 2.0889, Rc = 1.8172, Ec = 54.3348[  500/  950]\n",
            "The current loss: 2.344816609491696\n",
            "This is epoch 28\n",
            "BatLoss = 2.0750, Rc = 1.7867, Ec = 57.6582[    0/  950]\n",
            "BatLoss = 1.9476, Rc = 1.6834, Ec = 52.8480[  500/  950]\n",
            "The current loss: 2.2477288979820105\n",
            "This is epoch 29\n",
            "BatLoss = 2.0025, Rc = 1.7151, Ec = 57.4805[    0/  950]\n",
            "BatLoss = 1.8256, Rc = 1.5750, Ec = 50.1098[  500/  950]\n",
            "The current loss: 2.125712209871129\n",
            "This is epoch 30\n",
            "BatLoss = 1.7996, Rc = 1.5524, Ec = 49.4456[    0/  950]\n",
            "BatLoss = 1.7385, Rc = 1.5000, Ec = 47.7143[  500/  950]\n",
            "The current loss: 2.084791346735584\n",
            "This is epoch 31\n",
            "BatLoss = 1.7507, Rc = 1.5130, Ec = 47.5504[    0/  950]\n",
            "BatLoss = 1.6889, Rc = 1.4610, Ec = 45.5723[  500/  950]\n",
            "The current loss: 1.975766515715924\n",
            "This is epoch 32\n",
            "BatLoss = 1.6149, Rc = 1.3894, Ec = 45.1002[    0/  950]\n",
            "BatLoss = 1.5810, Rc = 1.3684, Ec = 42.5255[  500/  950]\n",
            "The current loss: 1.8887189413537235\n",
            "This is epoch 33\n",
            "BatLoss = 1.5291, Rc = 1.3253, Ec = 40.7675[    0/  950]\n",
            "BatLoss = 1.4837, Rc = 1.2958, Ec = 37.5718[  500/  950]\n",
            "The current loss: 1.8463550111633666\n",
            "This is epoch 34\n",
            "BatLoss = 1.5296, Rc = 1.3238, Ec = 41.1541[    0/  950]\n",
            "BatLoss = 1.3797, Rc = 1.2072, Ec = 34.4904[  500/  950]\n",
            "The current loss: 1.7830281320293722\n",
            "This is epoch 35\n",
            "BatLoss = 1.4411, Rc = 1.2484, Ec = 38.5315[    0/  950]\n",
            "BatLoss = 1.3384, Rc = 1.1799, Ec = 31.6868[  500/  950]\n",
            "The current loss: 1.7653182377523238\n",
            "This is epoch 36\n",
            "BatLoss = 1.4242, Rc = 1.2411, Ec = 36.6094[    0/  950]\n",
            "BatLoss = 1.3324, Rc = 1.1869, Ec = 29.0993[  500/  950]\n",
            "The current loss: 1.7837064567388985\n",
            "This is epoch 37\n",
            "BatLoss = 1.4616, Rc = 1.2770, Ec = 36.9130[    0/  950]\n",
            "BatLoss = 1.3617, Rc = 1.2218, Ec = 27.9892[  500/  950]\n",
            "The current loss: 1.8307569877791028\n",
            "This is epoch 38\n",
            "BatLoss = 1.5434, Rc = 1.3534, Ec = 37.9887[    0/  950]\n",
            "BatLoss = 1.3083, Rc = 1.1852, Ec = 24.6255[  500/  950]\n",
            "The current loss: 1.761986275256196\n",
            "This is epoch 39\n",
            "BatLoss = 1.4724, Rc = 1.3094, Ec = 32.5914[    0/  950]\n",
            "BatLoss = 1.6153, Rc = 1.4704, Ec = 28.9928[  500/  950]\n",
            "The current loss: 1.749027714602958\n",
            "This is epoch 40\n",
            "BatLoss = 1.4980, Rc = 1.3458, Ec = 30.4287[    0/  950]\n",
            "BatLoss = 1.3560, Rc = 1.2267, Ec = 25.8665[  500/  950]\n",
            "The current loss: 1.5088356016604085\n",
            "This is epoch 41\n",
            "BatLoss = 1.1854, Rc = 1.0497, Ec = 27.1291[    0/  950]\n",
            "BatLoss = 1.0444, Rc = 0.9316, Ec = 22.5710[  500/  950]\n",
            "The current loss: 1.530316119149522\n",
            "This is epoch 42\n",
            "BatLoss = 1.2170, Rc = 1.0856, Ec = 26.2864[    0/  950]\n",
            "BatLoss = 1.0091, Rc = 0.9080, Ec = 20.2106[  500/  950]\n",
            "The current loss: 1.4775579543484316\n",
            "This is epoch 43\n",
            "BatLoss = 1.1801, Rc = 1.0675, Ec = 22.5251[    0/  950]\n",
            "BatLoss = 1.0241, Rc = 0.9190, Ec = 21.0190[  500/  950]\n",
            "The current loss: 1.4349767387376549\n",
            "This is epoch 44\n",
            "BatLoss = 1.1440, Rc = 1.0434, Ec = 20.1157[    0/  950]\n",
            "BatLoss = 1.0261, Rc = 0.9282, Ec = 19.5862[  500/  950]\n",
            "The current loss: 1.4385486023442724\n",
            "This is epoch 45\n",
            "BatLoss = 1.1399, Rc = 1.0473, Ec = 18.5212[    0/  950]\n",
            "BatLoss = 1.0281, Rc = 0.9454, Ec = 16.5541[  500/  950]\n",
            "The current loss: 1.4209338550239548\n",
            "This is epoch 46\n",
            "BatLoss = 1.1314, Rc = 1.0365, Ec = 18.9778[    0/  950]\n",
            "BatLoss = 0.9944, Rc = 0.9243, Ec = 14.0242[  500/  950]\n",
            "The current loss: 1.3848770661351495\n",
            "This is epoch 47\n",
            "BatLoss = 1.1066, Rc = 1.0088, Ec = 19.5485[    0/  950]\n",
            "BatLoss = 0.9671, Rc = 0.9008, Ec = 13.2657[  500/  950]\n",
            "The current loss: 1.3596082017450433\n",
            "This is epoch 48\n",
            "BatLoss = 1.0706, Rc = 0.9735, Ec = 19.4240[    0/  950]\n",
            "BatLoss = 0.9450, Rc = 0.8800, Ec = 13.0184[  500/  950]\n",
            "The current loss: 1.3470419153491258\n",
            "This is epoch 49\n",
            "BatLoss = 1.0440, Rc = 0.9524, Ec = 18.3229[    0/  950]\n",
            "BatLoss = 0.9321, Rc = 0.8750, Ec = 11.4267[  500/  950]\n",
            "The current loss: 1.3390299894317788\n",
            "This is epoch 50\n",
            "BatLoss = 1.0321, Rc = 0.9467, Ec = 17.0803[    0/  950]\n",
            "BatLoss = 0.9188, Rc = 0.8651, Ec = 10.7343[  500/  950]\n",
            "The current loss: 1.3260521991661203\n",
            "This is epoch 51\n",
            "BatLoss = 1.0228, Rc = 0.9403, Ec = 16.5060[    0/  950]\n",
            "BatLoss = 0.9025, Rc = 0.8515, Ec = 10.2000[  500/  950]\n",
            "The current loss: 1.3111592174134488\n",
            "This is epoch 52\n",
            "BatLoss = 1.0107, Rc = 0.9350, Ec = 15.1279[    0/  950]\n",
            "BatLoss = 0.8877, Rc = 0.8359, Ec = 10.3650[  500/  950]\n",
            "The current loss: 1.3068848626123004\n",
            "This is epoch 53\n",
            "BatLoss = 1.0022, Rc = 0.9326, Ec = 13.9041[    0/  950]\n",
            "BatLoss = 0.8767, Rc = 0.8252, Ec = 10.3050[  500/  950]\n",
            "The current loss: 1.3149847308751732\n",
            "This is epoch 54\n",
            "BatLoss = 1.0021, Rc = 0.9379, Ec = 12.8468[    0/  950]\n",
            "BatLoss = 0.8721, Rc = 0.8200, Ec = 10.4273[  500/  950]\n",
            "The current loss: 1.3392015828547132\n",
            "This is epoch 55\n",
            "BatLoss = 1.0173, Rc = 0.9549, Ec = 12.4862[    0/  950]\n",
            "BatLoss = 0.8656, Rc = 0.8135, Ec = 10.4217[  500/  950]\n",
            "The current loss: 1.34833063319302\n",
            "Early stopping!\n",
            "Start to test process.\n"
          ]
        }
      ]
    },
    {
      "cell_type": "markdown",
      "source": [
        "## Retrain with best parameters\n",
        "During the training, the training segment and validation segment were used separately to identify the best epochs. Once a best set of paramemters are identified based on the loss evaluated using the validation set, the model should be retrained using the combined training and validation set to have the best estimation efficiency. "
      ],
      "metadata": {
        "id": "fbR8wABNmuE5"
      }
    },
    {
      "cell_type": "code",
      "source": [
        "# optional: retrain the model using the best #epochs over train+val\n",
        "## initialize model\n",
        "net = LSTMnet(input_dim = input_size, output_dim = 1, hidden_dim = state_size, n_layers = 1).to(device)\n",
        "optimizer = optim.Adam(net.parameters(), lr=learning_rate)\n",
        "net, _ = train(net, best_epoch, optimizer, fu_loader, fu_loader, early_stopping=False)\n",
        "## save the model"
      ],
      "metadata": {
        "id": "R3u8fI0SMCJr",
        "colab": {
          "base_uri": "https://localhost:8080/"
        },
        "outputId": "1cfe1b70-e2e8-4c1a-b159-a14e37593008"
      },
      "execution_count": 17,
      "outputs": [
        {
          "output_type": "stream",
          "name": "stdout",
          "text": [
            "This is epoch 1\n",
            "BatLoss = 11.5584, Rc = 10.4112, Ec = 229.4359[    0/ 1900]\n",
            "BatLoss = 11.7983, Rc = 10.6462, Ec = 230.4039[  500/ 1900]\n",
            "BatLoss = 10.3465, Rc = 9.2898, Ec = 211.3329[ 1000/ 1900]\n",
            "BatLoss = 11.1775, Rc = 10.0589, Ec = 223.7161[ 1500/ 1900]\n",
            "This is epoch 2\n",
            "BatLoss = 10.4985, Rc = 9.4099, Ec = 217.7088[    0/ 1900]\n",
            "BatLoss = 10.5561, Rc = 9.4723, Ec = 216.7681[  500/ 1900]\n",
            "BatLoss = 8.9155, Rc = 7.9426, Ec = 194.5915[ 1000/ 1900]\n",
            "BatLoss = 9.3859, Rc = 8.3762, Ec = 201.9262[ 1500/ 1900]\n",
            "This is epoch 3\n",
            "BatLoss = 8.6666, Rc = 7.6736, Ec = 198.5993[    0/ 1900]\n",
            "BatLoss = 8.7686, Rc = 7.7891, Ec = 195.9043[  500/ 1900]\n",
            "BatLoss = 7.4280, Rc = 6.5462, Ec = 176.3684[ 1000/ 1900]\n",
            "BatLoss = 7.8757, Rc = 6.9647, Ec = 182.1928[ 1500/ 1900]\n",
            "This is epoch 4\n",
            "BatLoss = 7.3722, Rc = 6.4509, Ec = 184.2553[    0/ 1900]\n",
            "BatLoss = 7.5063, Rc = 6.6134, Ec = 178.5730[  500/ 1900]\n",
            "BatLoss = 6.3758, Rc = 5.5631, Ec = 162.5422[ 1000/ 1900]\n",
            "BatLoss = 6.7132, Rc = 5.8753, Ec = 167.5727[ 1500/ 1900]\n",
            "This is epoch 5\n",
            "BatLoss = 6.3173, Rc = 5.4715, Ec = 169.1441[    0/ 1900]\n",
            "BatLoss = 6.3759, Rc = 5.5776, Ec = 159.6601[  500/ 1900]\n",
            "BatLoss = 5.5462, Rc = 4.7996, Ec = 149.3107[ 1000/ 1900]\n",
            "BatLoss = 5.8127, Rc = 4.9999, Ec = 162.5716[ 1500/ 1900]\n",
            "This is epoch 6\n",
            "BatLoss = 5.4178, Rc = 4.6329, Ec = 156.9893[    0/ 1900]\n",
            "BatLoss = 5.4683, Rc = 4.7245, Ec = 148.7647[  500/ 1900]\n",
            "BatLoss = 4.8799, Rc = 4.1828, Ec = 139.4143[ 1000/ 1900]\n",
            "BatLoss = 5.0865, Rc = 4.3293, Ec = 151.4381[ 1500/ 1900]\n",
            "This is epoch 7\n",
            "BatLoss = 4.7055, Rc = 3.9771, Ec = 145.6851[    0/ 1900]\n",
            "BatLoss = 4.6812, Rc = 4.0387, Ec = 128.5092[  500/ 1900]\n",
            "BatLoss = 4.4265, Rc = 3.8434, Ec = 116.6104[ 1000/ 1900]\n",
            "BatLoss = 4.4845, Rc = 3.8568, Ec = 125.5318[ 1500/ 1900]\n",
            "This is epoch 8\n",
            "BatLoss = 4.2473, Rc = 3.6180, Ec = 125.8562[    0/ 1900]\n",
            "BatLoss = 4.1735, Rc = 3.5931, Ec = 116.0891[  500/ 1900]\n",
            "BatLoss = 4.1963, Rc = 3.6907, Ec = 101.1215[ 1000/ 1900]\n",
            "BatLoss = 4.0741, Rc = 3.5001, Ec = 114.8099[ 1500/ 1900]\n",
            "This is epoch 9\n",
            "BatLoss = 3.9174, Rc = 3.3601, Ec = 111.4598[    0/ 1900]\n",
            "BatLoss = 3.8415, Rc = 3.3257, Ec = 103.1501[  500/ 1900]\n",
            "BatLoss = 4.1168, Rc = 3.6531, Ec = 92.7243[ 1000/ 1900]\n",
            "BatLoss = 3.8197, Rc = 3.3033, Ec = 103.2814[ 1500/ 1900]\n",
            "This is epoch 10\n",
            "BatLoss = 3.6688, Rc = 3.1594, Ec = 101.8844[    0/ 1900]\n",
            "BatLoss = 3.5682, Rc = 3.0985, Ec = 93.9370[  500/ 1900]\n",
            "BatLoss = 3.6437, Rc = 3.2351, Ec = 81.7165[ 1000/ 1900]\n",
            "BatLoss = 3.5193, Rc = 3.0354, Ec = 96.7847[ 1500/ 1900]\n",
            "This is epoch 11\n",
            "BatLoss = 3.3231, Rc = 2.8563, Ec = 93.3642[    0/ 1900]\n",
            "BatLoss = 3.2522, Rc = 2.8209, Ec = 86.2588[  500/ 1900]\n",
            "BatLoss = 3.3707, Rc = 2.9997, Ec = 74.1844[ 1000/ 1900]\n",
            "BatLoss = 3.2198, Rc = 2.7914, Ec = 85.6923[ 1500/ 1900]\n",
            "This is epoch 12\n",
            "BatLoss = 3.0382, Rc = 2.6170, Ec = 84.2487[    0/ 1900]\n",
            "BatLoss = 2.9586, Rc = 2.5691, Ec = 77.9005[  500/ 1900]\n",
            "BatLoss = 3.0965, Rc = 2.7657, Ec = 66.1699[ 1000/ 1900]\n",
            "BatLoss = 2.9465, Rc = 2.5734, Ec = 74.6265[ 1500/ 1900]\n",
            "This is epoch 13\n",
            "BatLoss = 2.7346, Rc = 2.3824, Ec = 70.4388[    0/ 1900]\n",
            "BatLoss = 2.6866, Rc = 2.3576, Ec = 65.8031[  500/ 1900]\n",
            "BatLoss = 2.8344, Rc = 2.5481, Ec = 57.2611[ 1000/ 1900]\n",
            "BatLoss = 2.6981, Rc = 2.3615, Ec = 67.3388[ 1500/ 1900]\n",
            "This is epoch 14\n",
            "BatLoss = 2.4469, Rc = 2.1367, Ec = 62.0404[    0/ 1900]\n",
            "BatLoss = 2.4228, Rc = 2.1371, Ec = 57.1443[  500/ 1900]\n",
            "BatLoss = 2.6204, Rc = 2.3722, Ec = 49.6359[ 1000/ 1900]\n",
            "BatLoss = 2.4675, Rc = 2.1641, Ec = 60.6908[ 1500/ 1900]\n",
            "This is epoch 15\n",
            "BatLoss = 2.2322, Rc = 1.9533, Ec = 55.7743[    0/ 1900]\n",
            "BatLoss = 2.1793, Rc = 1.9288, Ec = 50.1061[  500/ 1900]\n",
            "BatLoss = 2.4702, Rc = 2.2565, Ec = 42.7477[ 1000/ 1900]\n",
            "BatLoss = 2.2656, Rc = 1.9899, Ec = 55.1502[ 1500/ 1900]\n",
            "This is epoch 16\n",
            "BatLoss = 2.0447, Rc = 1.7895, Ec = 51.0428[    0/ 1900]\n",
            "BatLoss = 1.9658, Rc = 1.7459, Ec = 43.9696[  500/ 1900]\n",
            "BatLoss = 2.3527, Rc = 2.1678, Ec = 36.9891[ 1000/ 1900]\n",
            "BatLoss = 2.0954, Rc = 1.8348, Ec = 52.1360[ 1500/ 1900]\n",
            "This is epoch 17\n",
            "BatLoss = 1.9079, Rc = 1.6695, Ec = 47.6931[    0/ 1900]\n",
            "BatLoss = 1.8017, Rc = 1.6049, Ec = 39.3613[  500/ 1900]\n",
            "BatLoss = 2.2352, Rc = 2.0788, Ec = 31.2918[ 1000/ 1900]\n",
            "BatLoss = 1.9632, Rc = 1.7220, Ec = 48.2369[ 1500/ 1900]\n",
            "This is epoch 18\n",
            "BatLoss = 1.7767, Rc = 1.5553, Ec = 44.2760[    0/ 1900]\n",
            "BatLoss = 1.6772, Rc = 1.4976, Ec = 35.9164[  500/ 1900]\n",
            "BatLoss = 2.1048, Rc = 1.9752, Ec = 25.9304[ 1000/ 1900]\n",
            "BatLoss = 1.8271, Rc = 1.6169, Ec = 42.0374[ 1500/ 1900]\n",
            "This is epoch 19\n",
            "BatLoss = 1.6409, Rc = 1.4415, Ec = 39.8760[    0/ 1900]\n",
            "BatLoss = 1.5713, Rc = 1.4121, Ec = 31.8522[  500/ 1900]\n",
            "BatLoss = 2.0386, Rc = 1.9311, Ec = 21.5121[ 1000/ 1900]\n",
            "BatLoss = 1.6817, Rc = 1.4995, Ec = 36.4359[ 1500/ 1900]\n",
            "This is epoch 20\n",
            "BatLoss = 1.5228, Rc = 1.3384, Ec = 36.8797[    0/ 1900]\n",
            "BatLoss = 1.4825, Rc = 1.3390, Ec = 28.6943[  500/ 1900]\n",
            "BatLoss = 1.9728, Rc = 1.8874, Ec = 17.0814[ 1000/ 1900]\n",
            "BatLoss = 1.5636, Rc = 1.3998, Ec = 32.7562[ 1500/ 1900]\n",
            "This is epoch 21\n",
            "BatLoss = 1.4163, Rc = 1.2523, Ec = 32.7893[    0/ 1900]\n",
            "BatLoss = 1.4142, Rc = 1.2821, Ec = 26.4234[  500/ 1900]\n",
            "BatLoss = 1.9038, Rc = 1.8380, Ec = 13.1545[ 1000/ 1900]\n",
            "BatLoss = 1.4687, Rc = 1.3249, Ec = 28.7595[ 1500/ 1900]\n",
            "This is epoch 22\n",
            "BatLoss = 1.3232, Rc = 1.1793, Ec = 28.7801[    0/ 1900]\n",
            "BatLoss = 1.3511, Rc = 1.2354, Ec = 23.1398[  500/ 1900]\n",
            "BatLoss = 1.8602, Rc = 1.8066, Ec = 10.7314[ 1000/ 1900]\n",
            "BatLoss = 1.3728, Rc = 1.2423, Ec = 26.0885[ 1500/ 1900]\n",
            "This is epoch 23\n",
            "BatLoss = 1.2509, Rc = 1.1215, Ec = 25.8659[    0/ 1900]\n",
            "BatLoss = 1.2918, Rc = 1.1861, Ec = 21.1509[  500/ 1900]\n",
            "BatLoss = 1.8131, Rc = 1.7731, Ec = 7.9952[ 1000/ 1900]\n",
            "BatLoss = 1.2997, Rc = 1.1886, Ec = 22.2193[ 1500/ 1900]\n",
            "This is epoch 24\n",
            "BatLoss = 1.1960, Rc = 1.0774, Ec = 23.7215[    0/ 1900]\n",
            "BatLoss = 1.2284, Rc = 1.1314, Ec = 19.4009[  500/ 1900]\n",
            "BatLoss = 1.7815, Rc = 1.7473, Ec = 6.8332[ 1000/ 1900]\n",
            "BatLoss = 1.2466, Rc = 1.1422, Ec = 20.8886[ 1500/ 1900]\n",
            "This is epoch 25\n",
            "BatLoss = 1.1538, Rc = 1.0453, Ec = 21.6887[    0/ 1900]\n",
            "BatLoss = 1.1740, Rc = 1.0845, Ec = 17.9171[  500/ 1900]\n",
            "BatLoss = 1.7595, Rc = 1.7354, Ec = 4.8125[ 1000/ 1900]\n",
            "BatLoss = 1.2049, Rc = 1.1143, Ec = 18.1332[ 1500/ 1900]\n",
            "This is epoch 26\n",
            "BatLoss = 1.1264, Rc = 1.0264, Ec = 19.9997[    0/ 1900]\n",
            "BatLoss = 1.1362, Rc = 1.0547, Ec = 16.3134[  500/ 1900]\n",
            "BatLoss = 1.7495, Rc = 1.7246, Ec = 4.9697[ 1000/ 1900]\n",
            "BatLoss = 1.1628, Rc = 1.0754, Ec = 17.4838[ 1500/ 1900]\n",
            "This is epoch 27\n",
            "BatLoss = 1.0969, Rc = 1.0082, Ec = 17.7304[    0/ 1900]\n",
            "BatLoss = 1.1015, Rc = 1.0269, Ec = 14.9194[  500/ 1900]\n",
            "BatLoss = 1.7370, Rc = 1.7199, Ec = 3.4219[ 1000/ 1900]\n",
            "BatLoss = 1.1415, Rc = 1.0619, Ec = 15.9317[ 1500/ 1900]\n",
            "This is epoch 28\n",
            "BatLoss = 1.0685, Rc = 0.9858, Ec = 16.5485[    0/ 1900]\n",
            "BatLoss = 1.0807, Rc = 1.0083, Ec = 14.4825[  500/ 1900]\n",
            "BatLoss = 1.7147, Rc = 1.6994, Ec = 3.0563[ 1000/ 1900]\n",
            "BatLoss = 1.1108, Rc = 1.0371, Ec = 14.7290[ 1500/ 1900]\n",
            "This is epoch 29\n",
            "BatLoss = 1.0434, Rc = 0.9694, Ec = 14.8027[    0/ 1900]\n",
            "BatLoss = 1.0421, Rc = 0.9751, Ec = 13.4015[  500/ 1900]\n",
            "BatLoss = 1.7029, Rc = 1.6930, Ec = 1.9881[ 1000/ 1900]\n",
            "BatLoss = 1.0970, Rc = 1.0273, Ec = 13.9316[ 1500/ 1900]\n",
            "This is epoch 30\n",
            "BatLoss = 1.0267, Rc = 0.9580, Ec = 13.7517[    0/ 1900]\n",
            "BatLoss = 1.0275, Rc = 0.9636, Ec = 12.7726[  500/ 1900]\n",
            "BatLoss = 1.6951, Rc = 1.6837, Ec = 2.2886[ 1000/ 1900]\n",
            "BatLoss = 1.0815, Rc = 1.0149, Ec = 13.3156[ 1500/ 1900]\n",
            "This is epoch 31\n",
            "BatLoss = 1.0191, Rc = 0.9548, Ec = 12.8584[    0/ 1900]\n",
            "BatLoss = 1.0090, Rc = 0.9470, Ec = 12.4088[  500/ 1900]\n",
            "BatLoss = 1.6920, Rc = 1.6841, Ec = 1.5808[ 1000/ 1900]\n",
            "BatLoss = 1.0685, Rc = 1.0064, Ec = 12.4217[ 1500/ 1900]\n",
            "This is epoch 32\n",
            "BatLoss = 1.0097, Rc = 0.9464, Ec = 12.6613[    0/ 1900]\n",
            "BatLoss = 0.9896, Rc = 0.9339, Ec = 11.1440[  500/ 1900]\n",
            "BatLoss = 1.6818, Rc = 1.6715, Ec = 2.0538[ 1000/ 1900]\n",
            "BatLoss = 1.0550, Rc = 0.9961, Ec = 11.7833[ 1500/ 1900]\n",
            "This is epoch 33\n",
            "BatLoss = 0.9957, Rc = 0.9394, Ec = 11.2676[    0/ 1900]\n",
            "BatLoss = 0.9760, Rc = 0.9217, Ec = 10.8524[  500/ 1900]\n",
            "BatLoss = 1.6775, Rc = 1.6707, Ec = 1.3610[ 1000/ 1900]\n",
            "BatLoss = 1.0489, Rc = 0.9924, Ec = 11.2860[ 1500/ 1900]\n",
            "This is epoch 34\n",
            "BatLoss = 0.9878, Rc = 0.9312, Ec = 11.3171[    0/ 1900]\n",
            "BatLoss = 0.9642, Rc = 0.9126, Ec = 10.3263[  500/ 1900]\n",
            "BatLoss = 1.6670, Rc = 1.6578, Ec = 1.8311[ 1000/ 1900]\n",
            "BatLoss = 1.0400, Rc = 0.9853, Ec = 10.9303[ 1500/ 1900]\n",
            "This is epoch 35\n",
            "BatLoss = 0.9811, Rc = 0.9286, Ec = 10.5083[    0/ 1900]\n",
            "BatLoss = 0.9519, Rc = 0.9012, Ec = 10.1312[  500/ 1900]\n",
            "BatLoss = 1.6574, Rc = 1.6500, Ec = 1.4824[ 1000/ 1900]\n",
            "BatLoss = 1.0384, Rc = 0.9853, Ec = 10.6104[ 1500/ 1900]\n",
            "This is epoch 36\n",
            "BatLoss = 0.9872, Rc = 0.9361, Ec = 10.2200[    0/ 1900]\n",
            "BatLoss = 0.9552, Rc = 0.9053, Ec = 9.9960[  500/ 1900]\n",
            "BatLoss = 1.6532, Rc = 1.6449, Ec = 1.6642[ 1000/ 1900]\n",
            "BatLoss = 1.0342, Rc = 0.9804, Ec = 10.7625[ 1500/ 1900]\n",
            "This is epoch 37\n",
            "BatLoss = 0.9928, Rc = 0.9443, Ec = 9.7005[    0/ 1900]\n",
            "BatLoss = 0.9658, Rc = 0.9129, Ec = 10.5847[  500/ 1900]\n",
            "BatLoss = 1.6531, Rc = 1.6456, Ec = 1.5017[ 1000/ 1900]\n",
            "BatLoss = 1.0440, Rc = 0.9885, Ec = 11.0864[ 1500/ 1900]\n",
            "This is epoch 38\n",
            "BatLoss = 0.9648, Rc = 0.9209, Ec = 8.7859[    0/ 1900]\n",
            "BatLoss = 0.9301, Rc = 0.8826, Ec = 9.4950[  500/ 1900]\n",
            "BatLoss = 1.6326, Rc = 1.6279, Ec = 0.9548[ 1000/ 1900]\n",
            "BatLoss = 1.0303, Rc = 0.9811, Ec = 9.8346[ 1500/ 1900]\n",
            "This is epoch 39\n",
            "BatLoss = 0.9415, Rc = 0.9014, Ec = 8.0204[    0/ 1900]\n",
            "BatLoss = 0.9155, Rc = 0.8713, Ec = 8.8222[  500/ 1900]\n",
            "BatLoss = 1.6306, Rc = 1.6271, Ec = 0.7149[ 1000/ 1900]\n",
            "BatLoss = 1.0095, Rc = 0.9658, Ec = 8.7547[ 1500/ 1900]\n",
            "This is epoch 40\n",
            "BatLoss = 0.9350, Rc = 0.8960, Ec = 7.7881[    0/ 1900]\n",
            "BatLoss = 0.9151, Rc = 0.8748, Ec = 8.0451[  500/ 1900]\n",
            "BatLoss = 1.6330, Rc = 1.6286, Ec = 0.8924[ 1000/ 1900]\n",
            "BatLoss = 0.9984, Rc = 0.9577, Ec = 8.1529[ 1500/ 1900]\n",
            "This is epoch 41\n",
            "BatLoss = 0.9327, Rc = 0.8933, Ec = 7.8847[    0/ 1900]\n",
            "BatLoss = 0.9069, Rc = 0.8686, Ec = 7.6654[  500/ 1900]\n",
            "BatLoss = 1.6312, Rc = 1.6269, Ec = 0.8671[ 1000/ 1900]\n",
            "BatLoss = 0.9938, Rc = 0.9538, Ec = 8.0019[ 1500/ 1900]\n",
            "This is epoch 42\n",
            "BatLoss = 0.9315, Rc = 0.8909, Ec = 8.1230[    0/ 1900]\n",
            "BatLoss = 0.9013, Rc = 0.8638, Ec = 7.5058[  500/ 1900]\n",
            "BatLoss = 1.6274, Rc = 1.6230, Ec = 0.8818[ 1000/ 1900]\n",
            "BatLoss = 0.9882, Rc = 0.9496, Ec = 7.7252[ 1500/ 1900]\n",
            "This is epoch 43\n",
            "BatLoss = 0.9235, Rc = 0.8852, Ec = 7.6638[    0/ 1900]\n",
            "BatLoss = 0.8967, Rc = 0.8601, Ec = 7.3205[  500/ 1900]\n",
            "BatLoss = 1.6235, Rc = 1.6207, Ec = 0.5600[ 1000/ 1900]\n",
            "BatLoss = 0.9865, Rc = 0.9472, Ec = 7.8458[ 1500/ 1900]\n",
            "This is epoch 44\n",
            "BatLoss = 0.9171, Rc = 0.8799, Ec = 7.4353[    0/ 1900]\n",
            "BatLoss = 0.8967, Rc = 0.8616, Ec = 7.0236[  500/ 1900]\n",
            "BatLoss = 1.6186, Rc = 1.6171, Ec = 0.3084[ 1000/ 1900]\n",
            "BatLoss = 0.9779, Rc = 0.9414, Ec = 7.3028[ 1500/ 1900]\n",
            "This is epoch 45\n",
            "BatLoss = 0.9089, Rc = 0.8733, Ec = 7.1246[    0/ 1900]\n",
            "BatLoss = 0.8786, Rc = 0.8466, Ec = 6.3916[  500/ 1900]\n",
            "BatLoss = 1.6198, Rc = 1.6178, Ec = 0.4026[ 1000/ 1900]\n",
            "BatLoss = 0.9753, Rc = 0.9397, Ec = 7.1177[ 1500/ 1900]\n",
            "This is epoch 46\n",
            "BatLoss = 0.9016, Rc = 0.8643, Ec = 7.4701[    0/ 1900]\n",
            "BatLoss = 0.8747, Rc = 0.8430, Ec = 6.3399[  500/ 1900]\n",
            "BatLoss = 1.6173, Rc = 1.6153, Ec = 0.3957[ 1000/ 1900]\n",
            "BatLoss = 0.9690, Rc = 0.9357, Ec = 6.6509[ 1500/ 1900]\n",
            "This is epoch 47\n",
            "BatLoss = 0.8937, Rc = 0.8595, Ec = 6.8310[    0/ 1900]\n",
            "BatLoss = 0.8631, Rc = 0.8338, Ec = 5.8446[  500/ 1900]\n",
            "BatLoss = 1.6180, Rc = 1.6151, Ec = 0.5751[ 1000/ 1900]\n",
            "BatLoss = 0.9648, Rc = 0.9321, Ec = 6.5508[ 1500/ 1900]\n",
            "This is epoch 48\n",
            "BatLoss = 0.8890, Rc = 0.8517, Ec = 7.4535[    0/ 1900]\n",
            "BatLoss = 0.8633, Rc = 0.8356, Ec = 5.5463[  500/ 1900]\n",
            "BatLoss = 1.6142, Rc = 1.6125, Ec = 0.3442[ 1000/ 1900]\n",
            "BatLoss = 0.9620, Rc = 0.9305, Ec = 6.3010[ 1500/ 1900]\n",
            "This is epoch 49\n",
            "BatLoss = 0.8833, Rc = 0.8481, Ec = 7.0228[    0/ 1900]\n",
            "BatLoss = 0.8571, Rc = 0.8292, Ec = 5.5694[  500/ 1900]\n",
            "BatLoss = 1.6159, Rc = 1.6134, Ec = 0.4906[ 1000/ 1900]\n",
            "BatLoss = 0.9601, Rc = 0.9290, Ec = 6.2226[ 1500/ 1900]\n",
            "This is epoch 50\n",
            "BatLoss = 0.8807, Rc = 0.8432, Ec = 7.4857[    0/ 1900]\n",
            "BatLoss = 0.8499, Rc = 0.8237, Ec = 5.2350[  500/ 1900]\n",
            "BatLoss = 1.6106, Rc = 1.6075, Ec = 0.6250[ 1000/ 1900]\n",
            "BatLoss = 0.9572, Rc = 0.9276, Ec = 5.9141[ 1500/ 1900]\n",
            "This is epoch 51\n",
            "BatLoss = 0.8753, Rc = 0.8393, Ec = 7.1963[    0/ 1900]\n",
            "BatLoss = 0.8411, Rc = 0.8146, Ec = 5.2842[  500/ 1900]\n",
            "BatLoss = 1.6130, Rc = 1.6100, Ec = 0.5956[ 1000/ 1900]\n",
            "BatLoss = 0.9532, Rc = 0.9243, Ec = 5.7840[ 1500/ 1900]\n",
            "This is epoch 52\n",
            "BatLoss = 0.8721, Rc = 0.8366, Ec = 7.0992[    0/ 1900]\n",
            "BatLoss = 0.8453, Rc = 0.8207, Ec = 4.9278[  500/ 1900]\n",
            "BatLoss = 1.6085, Rc = 1.6056, Ec = 0.5664[ 1000/ 1900]\n",
            "BatLoss = 0.9493, Rc = 0.9218, Ec = 5.4961[ 1500/ 1900]\n",
            "This is epoch 53\n",
            "BatLoss = 0.8655, Rc = 0.8312, Ec = 6.8610[    0/ 1900]\n",
            "BatLoss = 0.8351, Rc = 0.8109, Ec = 4.8383[  500/ 1900]\n",
            "BatLoss = 1.6091, Rc = 1.6061, Ec = 0.6163[ 1000/ 1900]\n",
            "BatLoss = 0.9461, Rc = 0.9185, Ec = 5.5053[ 1500/ 1900]\n",
            "This is epoch 54\n",
            "BatLoss = 0.8643, Rc = 0.8303, Ec = 6.8063[    0/ 1900]\n",
            "BatLoss = 0.8344, Rc = 0.8107, Ec = 4.7346[  500/ 1900]\n",
            "BatLoss = 1.6084, Rc = 1.6034, Ec = 0.9956[ 1000/ 1900]\n",
            "BatLoss = 0.9432, Rc = 0.9172, Ec = 5.1878[ 1500/ 1900]\n",
            "This is epoch 55\n",
            "BatLoss = 0.8568, Rc = 0.8247, Ec = 6.4279[    0/ 1900]\n",
            "BatLoss = 0.8270, Rc = 0.8043, Ec = 4.5213[  500/ 1900]\n",
            "BatLoss = 1.6052, Rc = 1.6023, Ec = 0.5691[ 1000/ 1900]\n",
            "BatLoss = 0.9427, Rc = 0.9164, Ec = 5.2578[ 1500/ 1900]\n"
          ]
        }
      ]
    },
    {
      "cell_type": "markdown",
      "source": [
        "Save the trained model in the output folder for future use. "
      ],
      "metadata": {
        "id": "0ZHC1FObH6P4"
      }
    },
    {
      "cell_type": "code",
      "source": [
        "torch.save(net, output_dir + 'model_pretrain.pt') ## save it in the output folder"
      ],
      "metadata": {
        "id": "YJgRhc7DH3XW"
      },
      "execution_count": 18,
      "outputs": []
    },
    {
      "cell_type": "markdown",
      "source": [
        "# Part II.  PGRNN Training \n",
        "\n",
        "In this part, we *re-train* the model using observed data. The real data has missing observations, which will be *masked* in the loss calculation. "
      ],
      "metadata": {
        "id": "UiflUZazsA81"
      }
    },
    {
      "cell_type": "markdown",
      "source": [
        "## Load data"
      ],
      "metadata": {
        "id": "mlyRTEYcshG-"
      }
    },
    {
      "cell_type": "code",
      "source": [
        "# load data ---------------------------------------------------------------\n",
        "x_full = np.load(data_dir + 'processed_features.npy') # input data\n",
        "x_raw_full = np.load(data_dir + 'features.npy') # raw input data\n",
        "diag_full = np.load(data_dir + 'diag.npy')\n",
        "label = np.load(data_dir + 'Obs_temp.npy') # real observation data\n",
        "mask = np.load(data_dir + 'Obs_mask.npy') # flags of missing values\n",
        "phy_full = np.concatenate((x_raw_full[:,:,:-2], diag_full), axis = 2) #physics variables\n",
        "\n",
        "# train-val-test split\n",
        "## Here we use equal size for train-val-test split\n",
        "## They can be of different sizes by using different n_steps \n",
        "idx_tr, idx_va, idx_te = (4000, 8000, 12000)\n",
        "print(idx_tr, idx_va, idx_te)\n",
        "\n",
        "## training\n",
        "x_tr = x_full[:, :idx_tr]\n",
        "y_tr = label[:, :idx_tr]\n",
        "p_tr = phy_full[:, :idx_tr]\n",
        "m_tr = mask[:, :idx_tr]\n",
        "## validation\n",
        "x_va = x_full[:, idx_tr:idx_va]\n",
        "y_va = label[:, idx_tr:idx_va]\n",
        "p_va = phy_full[:, idx_tr:idx_va]\n",
        "m_va = mask[:, idx_tr:idx_va]\n",
        "\n",
        "\n",
        "## testing\n",
        "x_te = x_full[:, idx_va:idx_te]\n",
        "y_te = label[:, idx_va:idx_te]\n",
        "p_te = phy_full[:, idx_va:idx_te]\n",
        "m_te = mask[:, idx_va:idx_te]\n",
        "\n",
        "# sparsify mask\n",
        "\n",
        "s_perc =0.99 #0.002 #0.2#0.4 #0.6 #0.8\n",
        "## training\n",
        "m_tr = np.reshape(m_tr, (-1, 1))\n",
        "loc_tr = np.random.choice(np.arange(m_tr.shape[0]), replace=False, size=int(m_tr.shape[0] * (1-s_perc)))\n",
        "m_tr[loc_tr, 0] = 0.0\n",
        "## validation\n",
        "m_va = np.reshape(m_va, (-1, 1))\n",
        "loc_va = np.random.choice(np.arange(m_va.shape[0]), replace=False, size=int(m_va.shape[0] * (1-s_perc)))\n",
        "m_va[loc_va, 0] = 0.0\n",
        "## reshaping\n",
        "m_tr = np.reshape(m_tr, (50, -1))\n",
        "m_va = np.reshape(m_va, (50, -1))\n",
        "\n",
        "# create data\n",
        "n_steps = int(idx_tr/npic)\n",
        "x_train = np.zeros([n_depths * N_sec, n_steps, input_size])\n",
        "y_train = np.zeros([n_depths * N_sec, n_steps])\n",
        "p_train = np.zeros([n_depths * N_sec, n_steps, phy_size])\n",
        "m_train = np.zeros([n_depths * N_sec, n_steps])\n",
        "\n",
        "x_val = np.zeros([n_depths * N_sec, n_steps, input_size])\n",
        "y_val = np.zeros([n_depths * N_sec, n_steps])\n",
        "p_val = np.zeros([n_depths * N_sec, n_steps, phy_size])\n",
        "m_val = np.zeros([n_depths * N_sec, n_steps])\n",
        "\n",
        "x_test = np.zeros([n_depths * N_sec, n_steps, input_size])\n",
        "y_test = np.zeros([n_depths * N_sec, n_steps])\n",
        "p_test = np.zeros([n_depths * N_sec, n_steps, phy_size])\n",
        "m_test = np.zeros([n_depths * N_sec, n_steps])\n",
        "\n",
        "for i in range(1, N_sec + 1):\n",
        "    r_1 = int((i - 1) * n_steps / 2) ## stride size = n_steps / 2\n",
        "    r_2 = r_1 + n_steps ## step size = n_step\n",
        "    x_train[(i-1)*n_depths:(i*n_depths)] = x_tr[:, r_1:r_2]\n",
        "    y_train[(i-1)*n_depths:(i*n_depths)] = y_tr[:, r_1:r_2]\n",
        "    p_train[(i-1)*n_depths:(i*n_depths)] = p_tr[:, r_1:r_2]\n",
        "    m_train[(i-1)*n_depths:(i*n_depths)] = m_tr[:, r_1:r_2]\n",
        "    x_val[(i-1)*n_depths:(i*n_depths)] = x_va[:, r_1:r_2]\n",
        "    y_val[(i-1)*n_depths:(i*n_depths)] = y_va[:, r_1:r_2]\n",
        "    p_val[(i-1)*n_depths:(i*n_depths)] = p_va[:, r_1:r_2]\n",
        "    m_val[(i-1)*n_depths:(i*n_depths)] = m_va[:, r_1:r_2]\n",
        "    x_test[(i-1)*n_depths:(i*n_depths)] = x_te[:, r_1:r_2]\n",
        "    y_test[(i-1)*n_depths:(i*n_depths)] = y_te[:, r_1:r_2]\n",
        "    p_test[(i-1)*n_depths:(i*n_depths)] = p_te[:, r_1:r_2]\n",
        "    m_test[(i-1)*n_depths:(i*n_depths)] = m_te[:, r_1:r_2]\n",
        "\n",
        "x_f = np.concatenate((x_train, x_val), axis=0)\n",
        "y_f = np.concatenate((y_train, y_val), axis=0)\n",
        "p_f = np.concatenate((p_train, p_val), axis=0)\n",
        "m_f = np.concatenate((m_train, m_val), axis=0)"
      ],
      "metadata": {
        "id": "3fWb1GK6vH1P",
        "colab": {
          "base_uri": "https://localhost:8080/"
        },
        "outputId": "c626e406-49f4-4887-b41f-6f4d99e317b5"
      },
      "execution_count": 19,
      "outputs": [
        {
          "output_type": "stream",
          "name": "stdout",
          "text": [
            "4000 8000 12000\n"
          ]
        }
      ]
    },
    {
      "cell_type": "markdown",
      "source": [
        "## Create data loaders"
      ],
      "metadata": {
        "id": "FqUHyeSdQXTQ"
      }
    },
    {
      "cell_type": "code",
      "source": [
        "train_data = TensorDataset(torch.from_numpy(x_train), \n",
        "                           torch.from_numpy(y_train), \n",
        "                           torch.from_numpy(m_train),\n",
        "                           torch.from_numpy(p_train))\n",
        "\n",
        "val_data = TensorDataset(torch.from_numpy(x_val), \n",
        "                         torch.from_numpy(y_val), \n",
        "                         torch.from_numpy(m_val),\n",
        "                         torch.from_numpy(p_val))\n",
        "\n",
        "test_data = TensorDataset(torch.from_numpy(x_test), \n",
        "                           torch.from_numpy(y_test), \n",
        "                           torch.from_numpy(m_test),\n",
        "                           torch.from_numpy(p_test))\n",
        "\n",
        "full_data = TensorDataset(torch.from_numpy(x_f), \n",
        "                          torch.from_numpy(y_f), \n",
        "                          torch.from_numpy(m_f),\n",
        "                          torch.from_numpy(p_f))\n",
        "\n",
        "tr_loader = DataLoader(train_data, batch_sampler=batch_sample_generator(len(train_data), batch_size))\n",
        "va_loader = DataLoader(val_data, batch_sampler=batch_sample_generator(len(val_data), batch_size))\n",
        "te_loader = DataLoader(test_data, batch_sampler=batch_sample_generator(len(test_data), batch_size))\n",
        "fu_loader = DataLoader(full_data, batch_sampler=batch_sample_generator(len(full_data), batch_size))"
      ],
      "metadata": {
        "id": "cY8_97uA66gw"
      },
      "execution_count": 20,
      "outputs": []
    },
    {
      "cell_type": "markdown",
      "source": [
        "## Training with early stopping"
      ],
      "metadata": {
        "id": "TAQiv6zrQbtx"
      }
    },
    {
      "cell_type": "code",
      "execution_count": 21,
      "metadata": {
        "id": "bwh4if7ShNf5",
        "colab": {
          "base_uri": "https://localhost:8080/"
        },
        "outputId": "28eb1001-94a7-4a34-918d-89398e14be73"
      },
      "outputs": [
        {
          "output_type": "stream",
          "name": "stdout",
          "text": [
            "This is epoch 1\n",
            "BatLoss = 3.2248, Rc = 3.1938, Ec = 6.2008[    0/  950]\n",
            "BatLoss = 1.6117, Rc = 1.5062, Ec = 21.0838[  500/  950]\n",
            "The current loss: 1.741180802536159\n",
            "This is epoch 2\n",
            "BatLoss = 1.9622, Rc = 1.8295, Ec = 26.5394[    0/  950]\n",
            "BatLoss = 1.3531, Rc = 1.2428, Ec = 22.0519[  500/  950]\n",
            "The current loss: 1.5428638006758564\n",
            "This is epoch 3\n",
            "BatLoss = 1.6182, Rc = 1.5324, Ec = 17.1558[    0/  950]\n",
            "BatLoss = 1.2858, Rc = 1.1911, Ec = 18.9268[  500/  950]\n",
            "The current loss: 1.424054761733425\n",
            "This is epoch 4\n",
            "BatLoss = 1.5675, Rc = 1.5017, Ec = 13.1495[    0/  950]\n",
            "BatLoss = 1.2294, Rc = 1.1729, Ec = 11.3008[  500/  950]\n",
            "The current loss: 1.433838014217607\n",
            "This is epoch 5\n",
            "BatLoss = 1.5143, Rc = 1.4594, Ec = 10.9644[    0/  950]\n",
            "BatLoss = 1.1744, Rc = 1.1256, Ec = 9.7647[  500/  950]\n",
            "The current loss: 1.4353361403790696\n",
            "This is epoch 6\n",
            "BatLoss = 1.4672, Rc = 1.4267, Ec = 8.1114[    0/  950]\n",
            "BatLoss = 1.1762, Rc = 1.1313, Ec = 8.9671[  500/  950]\n",
            "The current loss: 1.4042916749547893\n",
            "This is epoch 7\n",
            "BatLoss = 1.4740, Rc = 1.4307, Ec = 8.6612[    0/  950]\n",
            "BatLoss = 1.1664, Rc = 1.1257, Ec = 8.1461[  500/  950]\n",
            "The current loss: 1.4090651053147423\n",
            "This is epoch 8\n",
            "BatLoss = 1.4647, Rc = 1.4240, Ec = 8.1378[    0/  950]\n",
            "BatLoss = 1.1444, Rc = 1.1003, Ec = 8.8283[  500/  950]\n",
            "The current loss: 1.4182845619602265\n",
            "This is epoch 9\n",
            "BatLoss = 1.4540, Rc = 1.4142, Ec = 7.9432[    0/  950]\n",
            "BatLoss = 1.1444, Rc = 1.1006, Ec = 8.7514[  500/  950]\n",
            "The current loss: 1.4148974105974266\n",
            "Early stopping!\n",
            "Start to test process.\n"
          ]
        }
      ],
      "source": [
        "# train the model with early stopping\n",
        "## initialize model\n",
        "net = torch.load(output_dir + 'model_pretrain.pt').to(device)\n",
        "optimizer = optim.Adam(net.parameters(), lr=learning_rate)\n",
        "net, best_epoch = train(net, epochs, optimizer, tr_loader, va_loader)"
      ]
    },
    {
      "cell_type": "markdown",
      "source": [
        "## Retrain with training + validation using best parameters"
      ],
      "metadata": {
        "id": "mTnhbev4Qez9"
      }
    },
    {
      "cell_type": "code",
      "source": [
        "# optional: retrain the model using the best #epochs over train+val\n",
        "## initialize model\n",
        "net = torch.load(output_dir + 'model_pretrain.pt').to(device)\n",
        "optimizer = optim.Adam(net.parameters(), lr=learning_rate)\n",
        "net, _ = train(net, best_epoch, optimizer, fu_loader, fu_loader, early_stopping=False)\n",
        "## save the model\n",
        "torch.save(net, output_dir + 'model_finetune.pt') ## we save it in the data folder for simplicity, you can choose to save it in a different folder"
      ],
      "metadata": {
        "id": "xlsgetyVUevG",
        "colab": {
          "base_uri": "https://localhost:8080/"
        },
        "outputId": "eca6bf04-840d-4d09-afc9-4ec8ef363079"
      },
      "execution_count": 22,
      "outputs": [
        {
          "output_type": "stream",
          "name": "stdout",
          "text": [
            "This is epoch 1\n",
            "BatLoss = 3.2248, Rc = 3.1938, Ec = 6.2008[    0/ 1900]\n",
            "BatLoss = 1.6117, Rc = 1.5062, Ec = 21.0838[  500/ 1900]\n",
            "BatLoss = 1.7743, Rc = 1.6572, Ec = 23.4201[ 1000/ 1900]\n",
            "BatLoss = 1.4268, Rc = 1.3142, Ec = 22.5071[ 1500/ 1900]\n",
            "This is epoch 2\n",
            "BatLoss = 1.7758, Rc = 1.6938, Ec = 16.3833[    0/ 1900]\n",
            "BatLoss = 1.3416, Rc = 1.2485, Ec = 18.6059[  500/ 1900]\n",
            "BatLoss = 1.5127, Rc = 1.4269, Ec = 17.1616[ 1000/ 1900]\n",
            "BatLoss = 1.2057, Rc = 1.1131, Ec = 18.5177[ 1500/ 1900]\n",
            "This is epoch 3\n",
            "BatLoss = 1.7302, Rc = 1.6646, Ec = 13.1176[    0/ 1900]\n",
            "BatLoss = 1.2567, Rc = 1.2025, Ec = 10.8379[  500/ 1900]\n",
            "BatLoss = 1.5517, Rc = 1.4864, Ec = 13.0614[ 1000/ 1900]\n",
            "BatLoss = 1.2368, Rc = 1.1370, Ec = 19.9513[ 1500/ 1900]\n",
            "This is epoch 4\n",
            "BatLoss = 1.6970, Rc = 1.6371, Ec = 11.9929[    0/ 1900]\n",
            "BatLoss = 1.2620, Rc = 1.2047, Ec = 11.4622[  500/ 1900]\n",
            "BatLoss = 1.5553, Rc = 1.4807, Ec = 14.9229[ 1000/ 1900]\n",
            "BatLoss = 1.2457, Rc = 1.1352, Ec = 22.1014[ 1500/ 1900]\n",
            "This is epoch 5\n",
            "BatLoss = 1.7301, Rc = 1.6520, Ec = 15.6178[    0/ 1900]\n",
            "BatLoss = 1.2200, Rc = 1.1639, Ec = 11.2126[  500/ 1900]\n",
            "BatLoss = 1.5467, Rc = 1.4747, Ec = 14.3880[ 1000/ 1900]\n",
            "BatLoss = 1.2713, Rc = 1.1551, Ec = 23.2390[ 1500/ 1900]\n",
            "This is epoch 6\n",
            "BatLoss = 1.7421, Rc = 1.6639, Ec = 15.6325[    0/ 1900]\n",
            "BatLoss = 1.2183, Rc = 1.1538, Ec = 12.8857[  500/ 1900]\n",
            "BatLoss = 1.5093, Rc = 1.4497, Ec = 11.9183[ 1000/ 1900]\n",
            "BatLoss = 1.3011, Rc = 1.1810, Ec = 24.0136[ 1500/ 1900]\n",
            "This is epoch 7\n",
            "BatLoss = 1.6854, Rc = 1.6276, Ec = 11.5584[    0/ 1900]\n",
            "BatLoss = 1.1814, Rc = 1.1271, Ec = 10.8723[  500/ 1900]\n",
            "BatLoss = 1.4930, Rc = 1.4409, Ec = 10.4149[ 1000/ 1900]\n",
            "BatLoss = 1.2159, Rc = 1.1073, Ec = 21.7064[ 1500/ 1900]\n",
            "This is epoch 8\n",
            "BatLoss = 1.6910, Rc = 1.6363, Ec = 10.9365[    0/ 1900]\n",
            "BatLoss = 1.1381, Rc = 1.0935, Ec = 8.9064[  500/ 1900]\n",
            "BatLoss = 1.4989, Rc = 1.4406, Ec = 11.6755[ 1000/ 1900]\n",
            "BatLoss = 1.1697, Rc = 1.0668, Ec = 20.5852[ 1500/ 1900]\n",
            "This is epoch 9\n",
            "BatLoss = 1.6911, Rc = 1.6308, Ec = 12.0463[    0/ 1900]\n",
            "BatLoss = 1.1047, Rc = 1.0750, Ec = 5.9380[  500/ 1900]\n",
            "BatLoss = 1.4794, Rc = 1.4256, Ec = 10.7651[ 1000/ 1900]\n",
            "BatLoss = 1.1203, Rc = 1.0184, Ec = 20.3827[ 1500/ 1900]\n"
          ]
        }
      ]
    },
    {
      "cell_type": "markdown",
      "source": [
        "## Evaluation over test set"
      ],
      "metadata": {
        "id": "UfKsrBezQnKa"
      }
    },
    {
      "cell_type": "code",
      "source": [
        "# evaluate the performance over test set\n",
        "net = torch.load(output_dir + 'model_finetune.pt').to(device)\n",
        "net.eval()\n",
        "print('Test loss is:', val_test(net, te_loader))"
      ],
      "metadata": {
        "id": "tcEvgboZUeqQ",
        "colab": {
          "base_uri": "https://localhost:8080/"
        },
        "outputId": "da19813a-e0bb-4416-fbb4-ec50050a0f11"
      },
      "execution_count": 23,
      "outputs": [
        {
          "output_type": "stream",
          "name": "stdout",
          "text": [
            "Test loss is: 1.3718351454682318\n"
          ]
        }
      ]
    },
    {
      "cell_type": "code",
      "source": [
        "# if there is no finetune\n",
        "net = torch.load(output_dir + 'model_pretrain.pt').to(device)\n",
        "net.eval()\n",
        "print('Test loss is:', val_test(net, te_loader))"
      ],
      "metadata": {
        "colab": {
          "base_uri": "https://localhost:8080/"
        },
        "id": "e2iqRtHNUTyX",
        "outputId": "be7cb965-d707-465c-f71e-9c57713a496b"
      },
      "execution_count": 24,
      "outputs": [
        {
          "output_type": "stream",
          "name": "stdout",
          "text": [
            "Test loss is: 2.3579796069253893\n"
          ]
        }
      ]
    },
    {
      "cell_type": "markdown",
      "source": [
        "## Visualizations\n",
        "\n",
        "In the following we create a few visualization of the data and model outputs to demonstrate the performance of the models. "
      ],
      "metadata": {
        "id": "PzgSNLcIBVmY"
      }
    },
    {
      "cell_type": "code",
      "source": [
        "# load the dates information\n",
        "dates_arr = np.load(data_dir + 'dates.npy')\n",
        "dates_d = dates_arr.astype('M8[D]') ## transform the dates to date\n",
        "dates_m = dates_arr.astype('M8[M]') ## transform the dates to date\n",
        "dates_y = dates_arr.astype('M8[Y]') ## transform the dates to year\n",
        "# load features\n",
        "x_raw = np.load(data_dir + 'features.npy')\n",
        "x_proc = np.load(data_dir + 'processed_features.npy')\n",
        "# load the labels\n",
        "label = np.load(data_dir + 'Obs_temp.npy')\n",
        "print('Shape of labels:', label.shape)\n",
        "# load the weight\n",
        "weight = np.load(data_dir + 'Obs_mask.npy')\n",
        "print('Shape of weight:', weight.shape)\n",
        "print('Mean of weight:', np.mean(weight)) ## data is very sparse, 2% of the data are not nan\n",
        "# filter the test set\n",
        "label_test = label[:, idx_va:idx_te]\n",
        "weight_test = weight[:, idx_va:idx_te]\n",
        "dates_test_d = dates_d[idx_va:idx_te]\n",
        "dates_test_m = dates_m[idx_va:idx_te]\n",
        "dates_test_y = dates_y[idx_va:idx_te].astype(str)\n",
        "print('Years available:', np.unique(dates_test_y))"
      ],
      "metadata": {
        "colab": {
          "base_uri": "https://localhost:8080/"
        },
        "id": "nLwxhYq_hKvZ",
        "outputId": "de2b8732-6f2a-4457-c550-3e46b65a8a9f"
      },
      "execution_count": 25,
      "outputs": [
        {
          "output_type": "stream",
          "name": "stdout",
          "text": [
            "Shape of labels: (50, 12691)\n",
            "Shape of weight: (50, 12691)\n",
            "Mean of weight: 0.020735954613505633\n",
            "Years available: ['2002' '2003' '2004' '2005' '2006' '2007' '2008' '2009' '2010' '2011'\n",
            " '2012' '2013']\n"
          ]
        }
      ]
    },
    {
      "cell_type": "code",
      "source": [
        "# visualize the weight\n",
        "## black: data, white: zero-weight (NA value?)\n",
        "year_choose = '2005'\n",
        "idx = np.where(dates_test_y == year_choose)[0]\n",
        "n_row = label_test.shape[0]\n",
        "n_col = len(idx)\n",
        "## make the figure\n",
        "fig, ax = plt.subplots(figsize=(10, 5))\n",
        "im = ax.imshow(weight_test[:, idx] == 0, aspect='auto', cmap=plt.cm.gray)\n",
        "x_choose = np.array(np.linspace(0, 1, 8) * (n_col-1), dtype=int)\n",
        "ax.set_xticks(x_choose)\n",
        "ax.set_xticklabels(dates_test_d[idx][x_choose], rotation=30, fontdict={'horizontalalignment': 'center'})\n",
        "ax.set_xlabel('Date')\n",
        "y_choose = np.array(np.linspace(0, 1, 8) * (n_row-1), dtype=int)\n",
        "ax.set_yticks(y_choose)\n",
        "ax.set_yticklabels(np.around(np.linspace(x_raw[0, 0, 1], x_raw[-1, -1, 1], n_row)[y_choose], decimals=1))\n",
        "ax.set_ylabel('Depth')\n",
        "ax.set_title('Sample Weight')\n",
        "plt.show()"
      ],
      "metadata": {
        "colab": {
          "base_uri": "https://localhost:8080/",
          "height": 377
        },
        "id": "mCXvzzlmeXqv",
        "outputId": "d95b023a-a287-41be-dc7d-b30f79f26bf2"
      },
      "execution_count": 26,
      "outputs": [
        {
          "output_type": "display_data",
          "data": {
            "image/png": "[encoded data removed]",
            "text/plain": [
              "<Figure size 720x360 with 1 Axes>"
            ]
          },
          "metadata": {
            "needs_background": "light"
          }
        }
      ]
    },
    {
      "cell_type": "code",
      "source": [
        "# visualize the true values\n",
        "import matplotlib\n",
        "weight_mat = weight_test[:, idx]\n",
        "weight_sum = np.sum(weight_mat, axis=0)\n",
        "idx_dt = np.where(weight_sum > 0)[0]\n",
        "n_col = len(idx_dt)\n",
        "label_mat = label_test[:, idx].copy()\n",
        "label_mat[weight_test[:, idx] == 0] = np.nan\n",
        "## make the figure\n",
        "fig, ax = plt.subplots(figsize=(10, 5))\n",
        "cmap = matplotlib.cm.coolwarm\n",
        "cmap.set_bad('black') ## we set the nan values to black, you can change it to other colors\n",
        "im = ax.imshow(label_mat[:, idx_dt], aspect='auto', cmap=cmap)\n",
        "ax.set_xticks(np.arange(n_col))\n",
        "ax.set_xticklabels(dates_test_d[idx][idx_dt], rotation=30, fontdict={'horizontalalignment': 'center'})\n",
        "ax.set_xlabel('Date')\n",
        "y_choose = np.array(np.linspace(0, 1, 8) * (n_row-1), dtype=int)\n",
        "ax.set_yticks(y_choose)\n",
        "ax.set_yticklabels(np.around(np.linspace(x_raw[0, 0, 1], x_raw[-1, -1, 1], n_row)[y_choose], decimals=1))\n",
        "ax.set_ylabel('Depth')\n",
        "ax.set_title('True Values of Year ' + str(year_choose) )\n",
        "fig.colorbar(im, ax=ax)\n",
        "plt.show()"
      ],
      "metadata": {
        "colab": {
          "base_uri": "https://localhost:8080/",
          "height": 377
        },
        "id": "isIojKG8jqdh",
        "outputId": "7078207c-8189-4177-d709-e64a43cee921"
      },
      "execution_count": 27,
      "outputs": [
        {
          "output_type": "display_data",
          "data": {
            "image/png": "[encoded data removed]",
            "text/plain": [
              "<Figure size 720x360 with 2 Axes>"
            ]
          },
          "metadata": {
            "needs_background": "light"
          }
        }
      ]
    },
    {
      "cell_type": "code",
      "source": [
        "# visualize the predictions\n",
        "net = torch.load(data_dir + 'model_finetune.pt').to(device)\n",
        "net.eval()\n",
        "with torch.no_grad():\n",
        "    x = torch.from_numpy(x_test).to(device).float()\n",
        "    pred_mat = net(x).cpu().numpy()\n",
        "\n",
        "label_pred = np.zeros(label_test.shape)\n",
        "for i in range(1, N_sec + 1):\n",
        "    r_1 = int((i - 1) * n_steps / 2) ## stride size = n_steps / 2\n",
        "    r_2 = r_1 + n_steps ## step size = n_step\n",
        "    label_pred[:, r_1:r_2] = pred_mat[(i-1)*n_depths:(i*n_depths)].copy()\n",
        "\n",
        "vis_mat = label_pred[:, idx].copy()\n",
        "vis_mat[weight_test[:, idx] == 0] = np.nan\n",
        "## make the figure\n",
        "fig, ax = plt.subplots(figsize=(10, 5))\n",
        "cmap = matplotlib.cm.coolwarm\n",
        "cmap.set_bad('black') ## we set the nan values to black, you can change it to other colors\n",
        "im = ax.imshow(vis_mat[:, idx_dt], aspect='auto', cmap=cmap)\n",
        "ax.set_xticks(np.arange(n_col))\n",
        "ax.set_xticklabels(dates_test_d[idx][idx_dt], rotation=30, fontdict={'horizontalalignment': 'center'})\n",
        "ax.set_xlabel('Date')\n",
        "y_choose = np.array(np.linspace(0, 1, 8) * (n_row-1), dtype=int)\n",
        "ax.set_yticks(y_choose)\n",
        "ax.set_yticklabels(np.around(np.linspace(x_raw[0, 0, 1], x_raw[-1, -1, 1], n_row)[y_choose], decimals=1))\n",
        "ax.set_ylabel('Depth')\n",
        "ax.set_title('Predicted Values of Year ' + str(year_choose) )\n",
        "fig.colorbar(im, ax=ax)\n",
        "plt.show()"
      ],
      "metadata": {
        "colab": {
          "base_uri": "https://localhost:8080/",
          "height": 398
        },
        "id": "_dy_8n0xno4n",
        "outputId": "1d0945b8-1a45-41af-bd31-bafa096520ab"
      },
      "execution_count": 28,
      "outputs": [
        {
          "output_type": "error",
          "ename": "FileNotFoundError",
          "evalue": "ignored",
          "traceback": [
            "\u001b[0;31m---------------------------------------------------------------------------\u001b[0m",
            "\u001b[0;31mFileNotFoundError\u001b[0m                         Traceback (most recent call last)",
            "\u001b[0;32m<ipython-input-28-25e1f83a145f>\u001b[0m in \u001b[0;36m<module>\u001b[0;34m()\u001b[0m\n\u001b[1;32m      1\u001b[0m \u001b[0;31m# visualize the predictions\u001b[0m\u001b[0;34m\u001b[0m\u001b[0;34m\u001b[0m\u001b[0;34m\u001b[0m\u001b[0m\n\u001b[0;32m----> 2\u001b[0;31m \u001b[0mnet\u001b[0m \u001b[0;34m=\u001b[0m \u001b[0mtorch\u001b[0m\u001b[0;34m.\u001b[0m\u001b[0mload\u001b[0m\u001b[0;34m(\u001b[0m\u001b[0mdata_dir\u001b[0m \u001b[0;34m+\u001b[0m \u001b[0;34m'model_finetune.pt'\u001b[0m\u001b[0;34m)\u001b[0m\u001b[0;34m.\u001b[0m\u001b[0mto\u001b[0m\u001b[0;34m(\u001b[0m\u001b[0mdevice\u001b[0m\u001b[0;34m)\u001b[0m\u001b[0;34m\u001b[0m\u001b[0;34m\u001b[0m\u001b[0m\n\u001b[0m\u001b[1;32m      3\u001b[0m \u001b[0mnet\u001b[0m\u001b[0;34m.\u001b[0m\u001b[0meval\u001b[0m\u001b[0;34m(\u001b[0m\u001b[0;34m)\u001b[0m\u001b[0;34m\u001b[0m\u001b[0;34m\u001b[0m\u001b[0m\n\u001b[1;32m      4\u001b[0m \u001b[0;32mwith\u001b[0m \u001b[0mtorch\u001b[0m\u001b[0;34m.\u001b[0m\u001b[0mno_grad\u001b[0m\u001b[0;34m(\u001b[0m\u001b[0;34m)\u001b[0m\u001b[0;34m:\u001b[0m\u001b[0;34m\u001b[0m\u001b[0;34m\u001b[0m\u001b[0m\n\u001b[1;32m      5\u001b[0m     \u001b[0mx\u001b[0m \u001b[0;34m=\u001b[0m \u001b[0mtorch\u001b[0m\u001b[0;34m.\u001b[0m\u001b[0mfrom_numpy\u001b[0m\u001b[0;34m(\u001b[0m\u001b[0mx_test\u001b[0m\u001b[0;34m)\u001b[0m\u001b[0;34m.\u001b[0m\u001b[0mto\u001b[0m\u001b[0;34m(\u001b[0m\u001b[0mdevice\u001b[0m\u001b[0;34m)\u001b[0m\u001b[0;34m.\u001b[0m\u001b[0mfloat\u001b[0m\u001b[0;34m(\u001b[0m\u001b[0;34m)\u001b[0m\u001b[0;34m\u001b[0m\u001b[0;34m\u001b[0m\u001b[0m\n",
            "\u001b[0;32m/usr/local/lib/python3.7/dist-packages/torch/serialization.py\u001b[0m in \u001b[0;36mload\u001b[0;34m(f, map_location, pickle_module, **pickle_load_args)\u001b[0m\n\u001b[1;32m    592\u001b[0m         \u001b[0mpickle_load_args\u001b[0m\u001b[0;34m[\u001b[0m\u001b[0;34m'encoding'\u001b[0m\u001b[0;34m]\u001b[0m \u001b[0;34m=\u001b[0m \u001b[0;34m'utf-8'\u001b[0m\u001b[0;34m\u001b[0m\u001b[0;34m\u001b[0m\u001b[0m\n\u001b[1;32m    593\u001b[0m \u001b[0;34m\u001b[0m\u001b[0m\n\u001b[0;32m--> 594\u001b[0;31m     \u001b[0;32mwith\u001b[0m \u001b[0m_open_file_like\u001b[0m\u001b[0;34m(\u001b[0m\u001b[0mf\u001b[0m\u001b[0;34m,\u001b[0m \u001b[0;34m'rb'\u001b[0m\u001b[0;34m)\u001b[0m \u001b[0;32mas\u001b[0m \u001b[0mopened_file\u001b[0m\u001b[0;34m:\u001b[0m\u001b[0;34m\u001b[0m\u001b[0;34m\u001b[0m\u001b[0m\n\u001b[0m\u001b[1;32m    595\u001b[0m         \u001b[0;32mif\u001b[0m \u001b[0m_is_zipfile\u001b[0m\u001b[0;34m(\u001b[0m\u001b[0mopened_file\u001b[0m\u001b[0;34m)\u001b[0m\u001b[0;34m:\u001b[0m\u001b[0;34m\u001b[0m\u001b[0;34m\u001b[0m\u001b[0m\n\u001b[1;32m    596\u001b[0m             \u001b[0;31m# The zipfile reader is going to advance the current file position.\u001b[0m\u001b[0;34m\u001b[0m\u001b[0;34m\u001b[0m\u001b[0;34m\u001b[0m\u001b[0m\n",
            "\u001b[0;32m/usr/local/lib/python3.7/dist-packages/torch/serialization.py\u001b[0m in \u001b[0;36m_open_file_like\u001b[0;34m(name_or_buffer, mode)\u001b[0m\n\u001b[1;32m    228\u001b[0m \u001b[0;32mdef\u001b[0m \u001b[0m_open_file_like\u001b[0m\u001b[0;34m(\u001b[0m\u001b[0mname_or_buffer\u001b[0m\u001b[0;34m,\u001b[0m \u001b[0mmode\u001b[0m\u001b[0;34m)\u001b[0m\u001b[0;34m:\u001b[0m\u001b[0;34m\u001b[0m\u001b[0;34m\u001b[0m\u001b[0m\n\u001b[1;32m    229\u001b[0m     \u001b[0;32mif\u001b[0m \u001b[0m_is_path\u001b[0m\u001b[0;34m(\u001b[0m\u001b[0mname_or_buffer\u001b[0m\u001b[0;34m)\u001b[0m\u001b[0;34m:\u001b[0m\u001b[0;34m\u001b[0m\u001b[0;34m\u001b[0m\u001b[0m\n\u001b[0;32m--> 230\u001b[0;31m         \u001b[0;32mreturn\u001b[0m \u001b[0m_open_file\u001b[0m\u001b[0;34m(\u001b[0m\u001b[0mname_or_buffer\u001b[0m\u001b[0;34m,\u001b[0m \u001b[0mmode\u001b[0m\u001b[0;34m)\u001b[0m\u001b[0;34m\u001b[0m\u001b[0;34m\u001b[0m\u001b[0m\n\u001b[0m\u001b[1;32m    231\u001b[0m     \u001b[0;32melse\u001b[0m\u001b[0;34m:\u001b[0m\u001b[0;34m\u001b[0m\u001b[0;34m\u001b[0m\u001b[0m\n\u001b[1;32m    232\u001b[0m         \u001b[0;32mif\u001b[0m \u001b[0;34m'w'\u001b[0m \u001b[0;32min\u001b[0m \u001b[0mmode\u001b[0m\u001b[0;34m:\u001b[0m\u001b[0;34m\u001b[0m\u001b[0;34m\u001b[0m\u001b[0m\n",
            "\u001b[0;32m/usr/local/lib/python3.7/dist-packages/torch/serialization.py\u001b[0m in \u001b[0;36m__init__\u001b[0;34m(self, name, mode)\u001b[0m\n\u001b[1;32m    209\u001b[0m \u001b[0;32mclass\u001b[0m \u001b[0m_open_file\u001b[0m\u001b[0;34m(\u001b[0m\u001b[0m_opener\u001b[0m\u001b[0;34m)\u001b[0m\u001b[0;34m:\u001b[0m\u001b[0;34m\u001b[0m\u001b[0;34m\u001b[0m\u001b[0m\n\u001b[1;32m    210\u001b[0m     \u001b[0;32mdef\u001b[0m \u001b[0m__init__\u001b[0m\u001b[0;34m(\u001b[0m\u001b[0mself\u001b[0m\u001b[0;34m,\u001b[0m \u001b[0mname\u001b[0m\u001b[0;34m,\u001b[0m \u001b[0mmode\u001b[0m\u001b[0;34m)\u001b[0m\u001b[0;34m:\u001b[0m\u001b[0;34m\u001b[0m\u001b[0;34m\u001b[0m\u001b[0m\n\u001b[0;32m--> 211\u001b[0;31m         \u001b[0msuper\u001b[0m\u001b[0;34m(\u001b[0m\u001b[0m_open_file\u001b[0m\u001b[0;34m,\u001b[0m \u001b[0mself\u001b[0m\u001b[0;34m)\u001b[0m\u001b[0;34m.\u001b[0m\u001b[0m__init__\u001b[0m\u001b[0;34m(\u001b[0m\u001b[0mopen\u001b[0m\u001b[0;34m(\u001b[0m\u001b[0mname\u001b[0m\u001b[0;34m,\u001b[0m \u001b[0mmode\u001b[0m\u001b[0;34m)\u001b[0m\u001b[0;34m)\u001b[0m\u001b[0;34m\u001b[0m\u001b[0;34m\u001b[0m\u001b[0m\n\u001b[0m\u001b[1;32m    212\u001b[0m \u001b[0;34m\u001b[0m\u001b[0m\n\u001b[1;32m    213\u001b[0m     \u001b[0;32mdef\u001b[0m \u001b[0m__exit__\u001b[0m\u001b[0;34m(\u001b[0m\u001b[0mself\u001b[0m\u001b[0;34m,\u001b[0m \u001b[0;34m*\u001b[0m\u001b[0margs\u001b[0m\u001b[0;34m)\u001b[0m\u001b[0;34m:\u001b[0m\u001b[0;34m\u001b[0m\u001b[0;34m\u001b[0m\u001b[0m\n",
            "\u001b[0;31mFileNotFoundError\u001b[0m: [Errno 2] No such file or directory: 'drive/MyDrive/Colab Notebooks/LEAP Colab Notebooks/Project 2/Data/model_finetune.pt'"
          ]
        }
      ]
    },
    {
      "cell_type": "code",
      "source": [
        "# visualize the residuals = true labels - predicted values\n",
        "err_mat = label_test - label_pred\n",
        "vis_mat = err_mat[:, idx].copy()\n",
        "vis_mat[weight_test[:, idx] == 0] = np.nan\n",
        "## make the figure\n",
        "fig, ax = plt.subplots(figsize=(10, 5))\n",
        "cmap = matplotlib.cm.coolwarm\n",
        "cmap.set_bad('black') ## we set the nan values to black, you can change it to other colors\n",
        "im = ax.imshow(vis_mat[:, idx_dt], aspect='auto', cmap=cmap)\n",
        "ax.set_xticks(np.arange(n_col))\n",
        "ax.set_xticklabels(dates_test_d[idx][idx_dt], rotation=30, fontdict={'horizontalalignment': 'center'})\n",
        "ax.set_xlabel('Date')\n",
        "y_choose = np.array(np.linspace(0, 1, 8) * (n_row-1), dtype=int)\n",
        "ax.set_yticks(y_choose)\n",
        "ax.set_yticklabels(np.around(np.linspace(x_raw[0, 0, 1], x_raw[-1, -1, 1], n_row)[y_choose], decimals=1))\n",
        "ax.set_ylabel('Depth')\n",
        "ax.set_title('Residuals of Year ' + str(year_choose) )\n",
        "fig.colorbar(im, ax=ax)\n",
        "plt.show()"
      ],
      "metadata": {
        "id": "VE7oj4nooC_I"
      },
      "execution_count": null,
      "outputs": []
    },
    {
      "cell_type": "code",
      "source": [
        "# Part II. visualizations for comparing pretrained model and fine-tuned model\n",
        "net = torch.load(data_dir + 'model_pretrain.pt').to(device)\n",
        "net.eval()\n",
        "with torch.no_grad():\n",
        "    x = torch.from_numpy(x_test).to(device).float()\n",
        "    pred_pret = net(x).cpu().numpy()\n",
        "\n",
        "label_pret = np.zeros(label_test.shape)\n",
        "for i in range(1, N_sec + 1):\n",
        "    r_1 = int((i - 1) * n_steps / 2) ## stride size = n_steps / 2\n",
        "    r_2 = r_1 + n_steps ## step size = n_step\n",
        "    label_pret[:, r_1:r_2] = pred_pret[(i-1)*n_depths:(i*n_depths)].copy()\n",
        "err_pret = label_test - label_pret\n",
        "\n",
        "net = torch.load(data_dir + 'model_finetune.pt').to(device)\n",
        "net.eval()\n",
        "with torch.no_grad():\n",
        "    x = torch.from_numpy(x_test).to(device).float()\n",
        "    pred_fine = net(x).cpu().numpy()\n",
        "\n",
        "label_fine = np.zeros(label_test.shape)\n",
        "for i in range(1, N_sec + 1):\n",
        "    r_1 = int((i - 1) * n_steps / 2) ## stride size = n_steps / 2\n",
        "    r_2 = r_1 + n_steps ## step size = n_step\n",
        "    label_fine[:, r_1:r_2] = pred_fine[(i-1)*n_depths:(i*n_depths)].copy()\n",
        "err_fine = label_test - label_fine"
      ],
      "metadata": {
        "id": "-rMf4FaySH5d"
      },
      "execution_count": null,
      "outputs": []
    },
    {
      "cell_type": "code",
      "source": [
        "# visualizatin along different months\n",
        "## keep the month information and transform to int\n",
        "dates_test_m_int = np.array([str(i)[-2:] for i in dates_test_m]).astype(int)\n",
        "RMSE_pret = []\n",
        "RMSE_fine = []\n",
        "for i in range(1, 13):\n",
        "    weight_m = weight_test[:, dates_test_m_int == i]\n",
        "    if weight_m.sum() > 0:\n",
        "        loc_temp = np.where(np.sum(weight_m, axis=1) > 0)[0]\n",
        "        err_pret_m = err_pret[:, dates_test_m_int == i]\n",
        "        RMSE_m = np.sqrt(np.sum(weight_m * err_pret_m ** 2, axis=1)[loc_temp] / np.sum(weight_m, axis=1)[loc_temp])\n",
        "        RMSE_pret.append(list(RMSE_m))\n",
        "\n",
        "        err_fine_m = err_fine[:, dates_test_m_int == i]\n",
        "        RMSE_m = np.sqrt(np.sum(weight_m * err_fine_m ** 2, axis=1)[loc_temp] / np.sum(weight_m, axis=1)[loc_temp])\n",
        "        RMSE_fine.append(list(RMSE_m))\n",
        "\n",
        "plt.figure(figsize=(10, 5))\n",
        "\n",
        "bpl = plt.boxplot(RMSE_pret, positions=6*np.arange(12) - 1, widths=1)\n",
        "bpr = plt.boxplot(RMSE_fine, positions=6*np.arange(12) + 1, widths=1)\n",
        "\n",
        "ticks = ['Jan', 'Feb', 'Mar', 'Apr', 'May', 'Jun', 'Jul', 'Aug', 'Sep', 'Oct', 'Nov', 'Dec']\n",
        "\n",
        "def define_box_properties(plot_name, color_code, label):\n",
        "\tfor k, v in plot_name.items():\n",
        "\t\tplt.setp(plot_name.get(k), color=color_code)\n",
        "\t\t\n",
        "\t# use plot function to draw a small line to name the legend.\n",
        "\tplt.plot([], c=color_code, label=label)\n",
        "\tplt.legend()\n",
        "\n",
        "\n",
        "# setting colors for each groups\n",
        "define_box_properties(bpl, '#D7191C', 'Pretrained')\n",
        "define_box_properties(bpr, '#2C7BB6', 'Finetuned')\n",
        "plt.legend()\n",
        "# set the x label values\n",
        "plt.xticks(np.arange(0, len(ticks) * 6, 6), ticks)\n",
        "plt.xlabel('Month')\n",
        "plt.ylabel('RMSE')\n",
        "plt.xlim(-3, len(ticks) * 6)\n",
        "plt.title('RMSE by Month')\n",
        "plt.show()\n"
      ],
      "metadata": {
        "id": "Okgs5fubSHy0"
      },
      "execution_count": null,
      "outputs": []
    },
    {
      "cell_type": "code",
      "source": [
        "from torch import jit\n",
        "# visualizatin along different depths\n",
        "depth_vec = x_raw[:, 0, 1]\n",
        "RMSE_pret = []\n",
        "RMSE_fine = []\n",
        "for i in range(len(depth_vec)):\n",
        "    RMSE_pret_temp = []\n",
        "    RMSE_fine_temp = []\n",
        "    for j in range(12):\n",
        "        weight_m = weight_test[i, dates_test_m_int == j]\n",
        "        if weight_m.sum() > 0:\n",
        "            err_pret_m = err_pret[i, dates_test_m_int == j]\n",
        "            RMSE_m = np.sqrt(np.sum(weight_m * err_pret_m ** 2) / np.sum(weight_m))\n",
        "            RMSE_pret_temp.append(RMSE_m)\n",
        "\n",
        "            err_fine_m = err_fine[i, dates_test_m_int == j]\n",
        "            RMSE_m = np.sqrt(np.sum(weight_m * err_fine_m ** 2) / np.sum(weight_m))\n",
        "            RMSE_fine_temp.append(RMSE_m)\n",
        "    RMSE_pret.append(RMSE_pret_temp)\n",
        "    RMSE_fine.append(RMSE_fine_temp)\n",
        "\n",
        "plt.figure(figsize=(25, 5))\n",
        "\n",
        "bpl = plt.boxplot(RMSE_pret, positions=6*np.arange(len(depth_vec)) - 1, widths=1)\n",
        "bpr = plt.boxplot(RMSE_fine, positions=6*np.arange(len(depth_vec)) + 1, widths=1)\n",
        "\n",
        "ticks = np.arange(50) / 2\n",
        "\n",
        "# setting colors for each groups\n",
        "define_box_properties(bpl, '#D7191C', 'Pretrained')\n",
        "define_box_properties(bpr, '#2C7BB6', 'Finetuned')\n",
        "plt.legend()\n",
        "# set the x label values\n",
        "plt.xticks(np.arange(0, len(depth_vec) * 6, 6), ticks)\n",
        "plt.xlabel('Depth')\n",
        "plt.ylabel('RMSE')\n",
        "plt.xlim(-3, len(depth_vec) * 6)\n",
        "plt.title('RMSE by Depth')\n",
        "plt.show()\n"
      ],
      "metadata": {
        "id": "7rSLiaAHE-if"
      },
      "execution_count": null,
      "outputs": []
    },
    {
      "cell_type": "markdown",
      "source": [
        "## References\n",
        "+ Read, J. S., Jia, X., Willard, J., Appling, A. P., Zwart, J. A., Oliver, S. K., ... & Kumar, V. (2019). Process‐guided deep learning predictions of lake water temperature. [Water Resources Research, 55(11), 9173-9190](https://agupubs.onlinelibrary.wiley.com/doi/full/10.1029/2019WR024922).\n",
        "+ Jia, X., Willard, J., Karpatne, A., Read, J., Zwart, J., Steinbach, M., & Kumar, V. (2019, May). Physics guided RNNs for modeling dynamical systems: A case study in simulating lake temperature profiles. [In Proceedings of the 2019 SIAM International Conference on Data Mining (pp. 558-566). Society for Industrial and Applied Mathematics](https://epubs.siam.org/doi/pdf/10.1137/1.9781611975673.63).\n",
        "+ Jia, X., Willard, J., Karpatne, A., Read, J. S., Zwart, J. A., Steinbach, M., & Kumar, V. (2021). Physics-guided machine learning for scientific discovery: An application in simulating lake temperature profiles. [ACM/IMS Transactions on Data Science, 2(3), 1-26](https://dl.acm.org/doi/abs/10.1145/3447814)."
      ],
      "metadata": {
        "id": "EFhKD7ZMpRqP"
      }
    }
  ]
}